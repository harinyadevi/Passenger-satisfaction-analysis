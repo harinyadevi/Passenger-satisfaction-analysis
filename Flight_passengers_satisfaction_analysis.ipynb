{
  "nbformat": 4,
  "nbformat_minor": 0,
  "metadata": {
    "colab": {
      "name": "Flight_passengers_satisfaction_analysis.ipynb",
      "provenance": [],
      "collapsed_sections": [],
      "authorship_tag": "ABX9TyPjPZPY7i5BgkbGS+K/YD2a"
    },
    "kernelspec": {
      "name": "python3",
      "display_name": "Python 3"
    },
    "language_info": {
      "name": "python"
    }
  },
  "cells": [
    {
      "cell_type": "markdown",
      "metadata": {
        "id": "0DucR5Sxgpv8"
      },
      "source": [
        "# **Analysis of Passenger Satisfaction in Flights**\n",
        "\n",
        "Customer’s experience is one of the important concern for airline industries. In order to attract customers, airlines around the world are striving to\n",
        "improve service quality to increase customer satisfaction, which is directly related to re-use intention as well as\n",
        "price competition. However, by using customer evaluation data on aviation service, customer satisfaction has\n",
        "been improved. The analysis gives an insight into the factors leads to the customer satisfaction in an airline.\n",
        "\n",
        "\n",
        "\n",
        "\n",
        "https://raw.githubusercontent.com/TharunNB/Data-Science/main/data/satisfaction.csv\n",
        "\n",
        "\n",
        "\n",
        "\n"
      ]
    },
    {
      "cell_type": "markdown",
      "metadata": {
        "id": "SeKHJBhJg4iw"
      },
      "source": [
        "##**Data Dictionary**\n",
        "\n",
        "Variable | Description\n",
        "--- | ---\n",
        "**Gender** | Gender of the passengers (Female, Male)\n",
        "**Customer Type** | The customer type (Loyal customer, disloyal customer)\n",
        "**Age** | The actual age of the passengers\n",
        "**Type of Travel** | Purpose of the flight of the passengers (Personal Travel, Business Travel)\n",
        "**Class** | Travel class in the plane of the passengers (Business, Eco, Eco Plus)\n",
        "**Flight distance** | The flight distance of this journey\n",
        "**Inflight wifi service** | Satisfaction level of the inflight wifi service (0:Not Applicable;1-5)\n",
        "**Departure/Arrival time convenient** | Satisfaction level of Departure/Arrival time convenient\n",
        "**Ease of Online booking** | Satisfaction level of online booking\n",
        "**Gate location** | Satisfaction level of Gate location\n",
        "**Food and drink** | Satisfaction level of Food and drink\n",
        "**Online boarding** | Satisfaction level of online boarding\n",
        "**Seat comfort** | Satisfaction level of Seat comfort\n",
        "**Inflight entertainment** | Satisfaction level of inflight entertainment\n",
        "**On-board service** | Satisfaction level of On-board service\n",
        "**Leg room service** | Satisfaction level of Leg room service\n",
        "**Baggage handling** | Satisfaction level of baggage handling\n",
        "**Check-in service** | Satisfaction level of Check-in service\n",
        "**Inflight service** | Satisfaction level of inflight service\n",
        "**Cleanliness** | Satisfaction level of Cleanliness\n",
        "**Departure Delay in Minutes** | Minutes delayed when departure\n",
        "**Arrival Delay in Minutes** | Minutes delayed when Arrival\n",
        "**Satisfaction** | Airline satisfaction level(Satisfaction, neutral or dissatisfaction)"
      ]
    },
    {
      "cell_type": "markdown",
      "metadata": {
        "id": "XyhHpSZ1cGxg"
      },
      "source": [
        "# Import Libraries"
      ]
    },
    {
      "cell_type": "code",
      "metadata": {
        "id": "xTrM2tfqSE_1"
      },
      "source": [
        "import pandas as pd \n",
        "import numpy as np\n",
        "from sklearn import preprocessing\n",
        "import matplotlib.pyplot as plt\n",
        "import seaborn as sns\n",
        "import scipy.stats as st"
      ],
      "execution_count": null,
      "outputs": []
    },
    {
      "cell_type": "code",
      "metadata": {
        "id": "jpHvnSnXV-Z2"
      },
      "source": [
        "label_encoder = preprocessing.LabelEncoder()"
      ],
      "execution_count": null,
      "outputs": []
    },
    {
      "cell_type": "markdown",
      "metadata": {
        "id": "bkXXsk7icO4C"
      },
      "source": [
        "# Import Data"
      ]
    },
    {
      "cell_type": "code",
      "metadata": {
        "id": "pbTtxAvZUTn1"
      },
      "source": [
        "data = pd.read_csv('https://raw.githubusercontent.com/TharunNB/Data-Science/main/data/satisfaction.csv')"
      ],
      "execution_count": null,
      "outputs": []
    },
    {
      "cell_type": "code",
      "metadata": {
        "colab": {
          "base_uri": "https://localhost:8080/",
          "height": 365
        },
        "id": "LADCeeMkUbLg",
        "outputId": "5b37ed75-c54d-4138-fb1c-61e499904b3d"
      },
      "source": [
        "data.head(5)"
      ],
      "execution_count": null,
      "outputs": [
        {
          "output_type": "execute_result",
          "data": {
            "text/html": [
              "<div>\n",
              "<style scoped>\n",
              "    .dataframe tbody tr th:only-of-type {\n",
              "        vertical-align: middle;\n",
              "    }\n",
              "\n",
              "    .dataframe tbody tr th {\n",
              "        vertical-align: top;\n",
              "    }\n",
              "\n",
              "    .dataframe thead th {\n",
              "        text-align: right;\n",
              "    }\n",
              "</style>\n",
              "<table border=\"1\" class=\"dataframe\">\n",
              "  <thead>\n",
              "    <tr style=\"text-align: right;\">\n",
              "      <th></th>\n",
              "      <th>Unnamed: 0</th>\n",
              "      <th>Unnamed: 0.1</th>\n",
              "      <th>id</th>\n",
              "      <th>Gender</th>\n",
              "      <th>Customer Type</th>\n",
              "      <th>Age</th>\n",
              "      <th>Type of Travel</th>\n",
              "      <th>Class</th>\n",
              "      <th>Flight Distance</th>\n",
              "      <th>Inflight wifi service</th>\n",
              "      <th>Departure/Arrival time convenient</th>\n",
              "      <th>Ease of Online booking</th>\n",
              "      <th>Gate location</th>\n",
              "      <th>Food and drink</th>\n",
              "      <th>Online boarding</th>\n",
              "      <th>Seat comfort</th>\n",
              "      <th>Inflight entertainment</th>\n",
              "      <th>On-board service</th>\n",
              "      <th>Leg room service</th>\n",
              "      <th>Baggage handling</th>\n",
              "      <th>Checkin service</th>\n",
              "      <th>Inflight service</th>\n",
              "      <th>Cleanliness</th>\n",
              "      <th>Departure Delay in Minutes</th>\n",
              "      <th>Arrival Delay in Minutes</th>\n",
              "      <th>satisfaction</th>\n",
              "    </tr>\n",
              "  </thead>\n",
              "  <tbody>\n",
              "    <tr>\n",
              "      <th>0</th>\n",
              "      <td>0</td>\n",
              "      <td>0</td>\n",
              "      <td>19556</td>\n",
              "      <td>Female</td>\n",
              "      <td>Loyal Customer</td>\n",
              "      <td>52</td>\n",
              "      <td>Business travel</td>\n",
              "      <td>Eco</td>\n",
              "      <td>160</td>\n",
              "      <td>5</td>\n",
              "      <td>4</td>\n",
              "      <td>3</td>\n",
              "      <td>4</td>\n",
              "      <td>3</td>\n",
              "      <td>4</td>\n",
              "      <td>3</td>\n",
              "      <td>5</td>\n",
              "      <td>5</td>\n",
              "      <td>5</td>\n",
              "      <td>5</td>\n",
              "      <td>2</td>\n",
              "      <td>5</td>\n",
              "      <td>5</td>\n",
              "      <td>50</td>\n",
              "      <td>44.0</td>\n",
              "      <td>satisfied</td>\n",
              "    </tr>\n",
              "    <tr>\n",
              "      <th>1</th>\n",
              "      <td>1</td>\n",
              "      <td>1</td>\n",
              "      <td>90035</td>\n",
              "      <td>Female</td>\n",
              "      <td>Loyal Customer</td>\n",
              "      <td>36</td>\n",
              "      <td>Business travel</td>\n",
              "      <td>Business</td>\n",
              "      <td>2863</td>\n",
              "      <td>1</td>\n",
              "      <td>1</td>\n",
              "      <td>3</td>\n",
              "      <td>1</td>\n",
              "      <td>5</td>\n",
              "      <td>4</td>\n",
              "      <td>5</td>\n",
              "      <td>4</td>\n",
              "      <td>4</td>\n",
              "      <td>4</td>\n",
              "      <td>4</td>\n",
              "      <td>3</td>\n",
              "      <td>4</td>\n",
              "      <td>5</td>\n",
              "      <td>0</td>\n",
              "      <td>0.0</td>\n",
              "      <td>satisfied</td>\n",
              "    </tr>\n",
              "    <tr>\n",
              "      <th>2</th>\n",
              "      <td>2</td>\n",
              "      <td>2</td>\n",
              "      <td>12360</td>\n",
              "      <td>Male</td>\n",
              "      <td>disloyal Customer</td>\n",
              "      <td>20</td>\n",
              "      <td>Business travel</td>\n",
              "      <td>Eco</td>\n",
              "      <td>192</td>\n",
              "      <td>2</td>\n",
              "      <td>0</td>\n",
              "      <td>2</td>\n",
              "      <td>4</td>\n",
              "      <td>2</td>\n",
              "      <td>2</td>\n",
              "      <td>2</td>\n",
              "      <td>2</td>\n",
              "      <td>4</td>\n",
              "      <td>1</td>\n",
              "      <td>3</td>\n",
              "      <td>2</td>\n",
              "      <td>2</td>\n",
              "      <td>2</td>\n",
              "      <td>0</td>\n",
              "      <td>0.0</td>\n",
              "      <td>neutral or dissatisfied</td>\n",
              "    </tr>\n",
              "    <tr>\n",
              "      <th>3</th>\n",
              "      <td>3</td>\n",
              "      <td>3</td>\n",
              "      <td>77959</td>\n",
              "      <td>Male</td>\n",
              "      <td>Loyal Customer</td>\n",
              "      <td>44</td>\n",
              "      <td>Business travel</td>\n",
              "      <td>Business</td>\n",
              "      <td>3377</td>\n",
              "      <td>0</td>\n",
              "      <td>0</td>\n",
              "      <td>0</td>\n",
              "      <td>2</td>\n",
              "      <td>3</td>\n",
              "      <td>4</td>\n",
              "      <td>4</td>\n",
              "      <td>1</td>\n",
              "      <td>1</td>\n",
              "      <td>1</td>\n",
              "      <td>1</td>\n",
              "      <td>3</td>\n",
              "      <td>1</td>\n",
              "      <td>4</td>\n",
              "      <td>0</td>\n",
              "      <td>6.0</td>\n",
              "      <td>satisfied</td>\n",
              "    </tr>\n",
              "    <tr>\n",
              "      <th>4</th>\n",
              "      <td>4</td>\n",
              "      <td>4</td>\n",
              "      <td>36875</td>\n",
              "      <td>Female</td>\n",
              "      <td>Loyal Customer</td>\n",
              "      <td>49</td>\n",
              "      <td>Business travel</td>\n",
              "      <td>Eco</td>\n",
              "      <td>1182</td>\n",
              "      <td>2</td>\n",
              "      <td>3</td>\n",
              "      <td>4</td>\n",
              "      <td>3</td>\n",
              "      <td>4</td>\n",
              "      <td>1</td>\n",
              "      <td>2</td>\n",
              "      <td>2</td>\n",
              "      <td>2</td>\n",
              "      <td>2</td>\n",
              "      <td>2</td>\n",
              "      <td>4</td>\n",
              "      <td>2</td>\n",
              "      <td>4</td>\n",
              "      <td>0</td>\n",
              "      <td>20.0</td>\n",
              "      <td>satisfied</td>\n",
              "    </tr>\n",
              "  </tbody>\n",
              "</table>\n",
              "</div>"
            ],
            "text/plain": [
              "   Unnamed: 0  Unnamed: 0.1  ...  Arrival Delay in Minutes             satisfaction\n",
              "0           0             0  ...                      44.0                satisfied\n",
              "1           1             1  ...                       0.0                satisfied\n",
              "2           2             2  ...                       0.0  neutral or dissatisfied\n",
              "3           3             3  ...                       6.0                satisfied\n",
              "4           4             4  ...                      20.0                satisfied\n",
              "\n",
              "[5 rows x 26 columns]"
            ]
          },
          "metadata": {},
          "execution_count": 101
        }
      ]
    },
    {
      "cell_type": "code",
      "metadata": {
        "colab": {
          "base_uri": "https://localhost:8080/",
          "height": 365
        },
        "id": "mati_FMfUeIg",
        "outputId": "bcfd1071-fd97-41af-a965-d91ff7e5f6cf"
      },
      "source": [
        "data.tail(5)"
      ],
      "execution_count": null,
      "outputs": [
        {
          "output_type": "execute_result",
          "data": {
            "text/html": [
              "<div>\n",
              "<style scoped>\n",
              "    .dataframe tbody tr th:only-of-type {\n",
              "        vertical-align: middle;\n",
              "    }\n",
              "\n",
              "    .dataframe tbody tr th {\n",
              "        vertical-align: top;\n",
              "    }\n",
              "\n",
              "    .dataframe thead th {\n",
              "        text-align: right;\n",
              "    }\n",
              "</style>\n",
              "<table border=\"1\" class=\"dataframe\">\n",
              "  <thead>\n",
              "    <tr style=\"text-align: right;\">\n",
              "      <th></th>\n",
              "      <th>Unnamed: 0</th>\n",
              "      <th>Unnamed: 0.1</th>\n",
              "      <th>id</th>\n",
              "      <th>Gender</th>\n",
              "      <th>Customer Type</th>\n",
              "      <th>Age</th>\n",
              "      <th>Type of Travel</th>\n",
              "      <th>Class</th>\n",
              "      <th>Flight Distance</th>\n",
              "      <th>Inflight wifi service</th>\n",
              "      <th>Departure/Arrival time convenient</th>\n",
              "      <th>Ease of Online booking</th>\n",
              "      <th>Gate location</th>\n",
              "      <th>Food and drink</th>\n",
              "      <th>Online boarding</th>\n",
              "      <th>Seat comfort</th>\n",
              "      <th>Inflight entertainment</th>\n",
              "      <th>On-board service</th>\n",
              "      <th>Leg room service</th>\n",
              "      <th>Baggage handling</th>\n",
              "      <th>Checkin service</th>\n",
              "      <th>Inflight service</th>\n",
              "      <th>Cleanliness</th>\n",
              "      <th>Departure Delay in Minutes</th>\n",
              "      <th>Arrival Delay in Minutes</th>\n",
              "      <th>satisfaction</th>\n",
              "    </tr>\n",
              "  </thead>\n",
              "  <tbody>\n",
              "    <tr>\n",
              "      <th>129875</th>\n",
              "      <td>103899</td>\n",
              "      <td>103899</td>\n",
              "      <td>94171</td>\n",
              "      <td>Female</td>\n",
              "      <td>disloyal Customer</td>\n",
              "      <td>23</td>\n",
              "      <td>Business travel</td>\n",
              "      <td>Eco</td>\n",
              "      <td>192</td>\n",
              "      <td>2</td>\n",
              "      <td>1</td>\n",
              "      <td>2</td>\n",
              "      <td>3</td>\n",
              "      <td>2</td>\n",
              "      <td>2</td>\n",
              "      <td>2</td>\n",
              "      <td>2</td>\n",
              "      <td>3</td>\n",
              "      <td>1</td>\n",
              "      <td>4</td>\n",
              "      <td>2</td>\n",
              "      <td>3</td>\n",
              "      <td>2</td>\n",
              "      <td>3</td>\n",
              "      <td>0.0</td>\n",
              "      <td>neutral or dissatisfied</td>\n",
              "    </tr>\n",
              "    <tr>\n",
              "      <th>129876</th>\n",
              "      <td>103900</td>\n",
              "      <td>103900</td>\n",
              "      <td>73097</td>\n",
              "      <td>Male</td>\n",
              "      <td>Loyal Customer</td>\n",
              "      <td>49</td>\n",
              "      <td>Business travel</td>\n",
              "      <td>Business</td>\n",
              "      <td>2347</td>\n",
              "      <td>4</td>\n",
              "      <td>4</td>\n",
              "      <td>4</td>\n",
              "      <td>4</td>\n",
              "      <td>2</td>\n",
              "      <td>4</td>\n",
              "      <td>5</td>\n",
              "      <td>5</td>\n",
              "      <td>5</td>\n",
              "      <td>5</td>\n",
              "      <td>5</td>\n",
              "      <td>5</td>\n",
              "      <td>5</td>\n",
              "      <td>4</td>\n",
              "      <td>0</td>\n",
              "      <td>0.0</td>\n",
              "      <td>satisfied</td>\n",
              "    </tr>\n",
              "    <tr>\n",
              "      <th>129877</th>\n",
              "      <td>103901</td>\n",
              "      <td>103901</td>\n",
              "      <td>68825</td>\n",
              "      <td>Male</td>\n",
              "      <td>disloyal Customer</td>\n",
              "      <td>30</td>\n",
              "      <td>Business travel</td>\n",
              "      <td>Business</td>\n",
              "      <td>1995</td>\n",
              "      <td>1</td>\n",
              "      <td>1</td>\n",
              "      <td>1</td>\n",
              "      <td>3</td>\n",
              "      <td>4</td>\n",
              "      <td>1</td>\n",
              "      <td>5</td>\n",
              "      <td>4</td>\n",
              "      <td>3</td>\n",
              "      <td>2</td>\n",
              "      <td>4</td>\n",
              "      <td>5</td>\n",
              "      <td>5</td>\n",
              "      <td>4</td>\n",
              "      <td>7</td>\n",
              "      <td>14.0</td>\n",
              "      <td>neutral or dissatisfied</td>\n",
              "    </tr>\n",
              "    <tr>\n",
              "      <th>129878</th>\n",
              "      <td>103902</td>\n",
              "      <td>103902</td>\n",
              "      <td>54173</td>\n",
              "      <td>Female</td>\n",
              "      <td>disloyal Customer</td>\n",
              "      <td>22</td>\n",
              "      <td>Business travel</td>\n",
              "      <td>Eco</td>\n",
              "      <td>1000</td>\n",
              "      <td>1</td>\n",
              "      <td>1</td>\n",
              "      <td>1</td>\n",
              "      <td>5</td>\n",
              "      <td>1</td>\n",
              "      <td>1</td>\n",
              "      <td>1</td>\n",
              "      <td>1</td>\n",
              "      <td>4</td>\n",
              "      <td>5</td>\n",
              "      <td>1</td>\n",
              "      <td>5</td>\n",
              "      <td>4</td>\n",
              "      <td>1</td>\n",
              "      <td>0</td>\n",
              "      <td>0.0</td>\n",
              "      <td>neutral or dissatisfied</td>\n",
              "    </tr>\n",
              "    <tr>\n",
              "      <th>129879</th>\n",
              "      <td>103903</td>\n",
              "      <td>103903</td>\n",
              "      <td>62567</td>\n",
              "      <td>Male</td>\n",
              "      <td>Loyal Customer</td>\n",
              "      <td>27</td>\n",
              "      <td>Business travel</td>\n",
              "      <td>Business</td>\n",
              "      <td>1723</td>\n",
              "      <td>1</td>\n",
              "      <td>3</td>\n",
              "      <td>3</td>\n",
              "      <td>3</td>\n",
              "      <td>1</td>\n",
              "      <td>1</td>\n",
              "      <td>1</td>\n",
              "      <td>1</td>\n",
              "      <td>1</td>\n",
              "      <td>1</td>\n",
              "      <td>4</td>\n",
              "      <td>4</td>\n",
              "      <td>3</td>\n",
              "      <td>1</td>\n",
              "      <td>0</td>\n",
              "      <td>0.0</td>\n",
              "      <td>neutral or dissatisfied</td>\n",
              "    </tr>\n",
              "  </tbody>\n",
              "</table>\n",
              "</div>"
            ],
            "text/plain": [
              "        Unnamed: 0  ...             satisfaction\n",
              "129875      103899  ...  neutral or dissatisfied\n",
              "129876      103900  ...                satisfied\n",
              "129877      103901  ...  neutral or dissatisfied\n",
              "129878      103902  ...  neutral or dissatisfied\n",
              "129879      103903  ...  neutral or dissatisfied\n",
              "\n",
              "[5 rows x 26 columns]"
            ]
          },
          "metadata": {},
          "execution_count": 102
        }
      ]
    },
    {
      "cell_type": "code",
      "metadata": {
        "colab": {
          "base_uri": "https://localhost:8080/"
        },
        "id": "sceiify8UYa0",
        "outputId": "e5773aaa-5ed9-483e-9fcb-70d7bc954022"
      },
      "source": [
        "data.shape"
      ],
      "execution_count": null,
      "outputs": [
        {
          "output_type": "execute_result",
          "data": {
            "text/plain": [
              "(129880, 26)"
            ]
          },
          "metadata": {},
          "execution_count": 103
        }
      ]
    },
    {
      "cell_type": "markdown",
      "metadata": {
        "id": "sLQ0d1QwqlS6"
      },
      "source": [
        "Inference: Dataset comprises of 129880 observations and 26 characteristics."
      ]
    },
    {
      "cell_type": "markdown",
      "metadata": {
        "id": "m3MKw56xca0u"
      },
      "source": [
        "**Removing unnecessary Columns:**<br>\n",
        "Columns \"Unamed: 0\" and \"Unamed 0.1\" doesn't have any purpose<br>\n",
        "Column \"id\" doesnt serve any purpose"
      ]
    },
    {
      "cell_type": "code",
      "metadata": {
        "id": "C0f7OSXCUf_N"
      },
      "source": [
        "data = data.drop('Unnamed: 0.1',axis = 1)\n",
        "data = data.drop('Unnamed: 0',axis = 1)\n",
        "data = data.drop('id',axis = 1)"
      ],
      "execution_count": null,
      "outputs": []
    },
    {
      "cell_type": "code",
      "metadata": {
        "colab": {
          "base_uri": "https://localhost:8080/"
        },
        "id": "R3jkJkYmlS0C",
        "outputId": "448027f7-9978-4d6f-ae29-a7c56d8fd31f"
      },
      "source": [
        "data.dtypes"
      ],
      "execution_count": null,
      "outputs": [
        {
          "output_type": "execute_result",
          "data": {
            "text/plain": [
              "Gender                                object\n",
              "Customer Type                         object\n",
              "Age                                    int64\n",
              "Type of Travel                        object\n",
              "Class                                 object\n",
              "Flight Distance                        int64\n",
              "Inflight wifi service                  int64\n",
              "Departure/Arrival time convenient      int64\n",
              "Ease of Online booking                 int64\n",
              "Gate location                          int64\n",
              "Food and drink                         int64\n",
              "Online boarding                        int64\n",
              "Seat comfort                           int64\n",
              "Inflight entertainment                 int64\n",
              "On-board service                       int64\n",
              "Leg room service                       int64\n",
              "Baggage handling                       int64\n",
              "Checkin service                        int64\n",
              "Inflight service                       int64\n",
              "Cleanliness                            int64\n",
              "Departure Delay in Minutes             int64\n",
              "Arrival Delay in Minutes             float64\n",
              "satisfaction                          object\n",
              "dtype: object"
            ]
          },
          "metadata": {},
          "execution_count": 105
        }
      ]
    },
    {
      "cell_type": "code",
      "metadata": {
        "colab": {
          "base_uri": "https://localhost:8080/"
        },
        "id": "B73eaW4KynFN",
        "outputId": "1975ddd5-5ad6-4d44-ab9d-5fa58393fe0b"
      },
      "source": [
        "data.dtypes.value_counts()"
      ],
      "execution_count": null,
      "outputs": [
        {
          "output_type": "execute_result",
          "data": {
            "text/plain": [
              "int64      17\n",
              "object      5\n",
              "float64     1\n",
              "dtype: int64"
            ]
          },
          "metadata": {},
          "execution_count": 106
        }
      ]
    },
    {
      "cell_type": "code",
      "metadata": {
        "colab": {
          "base_uri": "https://localhost:8080/",
          "height": 355
        },
        "id": "-BnCMx1PU0JT",
        "outputId": "ea708269-779b-47b5-87e1-5c186b8ba455"
      },
      "source": [
        "data.describe()"
      ],
      "execution_count": null,
      "outputs": [
        {
          "output_type": "execute_result",
          "data": {
            "text/html": [
              "<div>\n",
              "<style scoped>\n",
              "    .dataframe tbody tr th:only-of-type {\n",
              "        vertical-align: middle;\n",
              "    }\n",
              "\n",
              "    .dataframe tbody tr th {\n",
              "        vertical-align: top;\n",
              "    }\n",
              "\n",
              "    .dataframe thead th {\n",
              "        text-align: right;\n",
              "    }\n",
              "</style>\n",
              "<table border=\"1\" class=\"dataframe\">\n",
              "  <thead>\n",
              "    <tr style=\"text-align: right;\">\n",
              "      <th></th>\n",
              "      <th>Age</th>\n",
              "      <th>Flight Distance</th>\n",
              "      <th>Inflight wifi service</th>\n",
              "      <th>Departure/Arrival time convenient</th>\n",
              "      <th>Ease of Online booking</th>\n",
              "      <th>Gate location</th>\n",
              "      <th>Food and drink</th>\n",
              "      <th>Online boarding</th>\n",
              "      <th>Seat comfort</th>\n",
              "      <th>Inflight entertainment</th>\n",
              "      <th>On-board service</th>\n",
              "      <th>Leg room service</th>\n",
              "      <th>Baggage handling</th>\n",
              "      <th>Checkin service</th>\n",
              "      <th>Inflight service</th>\n",
              "      <th>Cleanliness</th>\n",
              "      <th>Departure Delay in Minutes</th>\n",
              "      <th>Arrival Delay in Minutes</th>\n",
              "    </tr>\n",
              "  </thead>\n",
              "  <tbody>\n",
              "    <tr>\n",
              "      <th>count</th>\n",
              "      <td>129880.000000</td>\n",
              "      <td>129880.000000</td>\n",
              "      <td>129880.000000</td>\n",
              "      <td>129880.000000</td>\n",
              "      <td>129880.000000</td>\n",
              "      <td>129880.000000</td>\n",
              "      <td>129880.000000</td>\n",
              "      <td>129880.000000</td>\n",
              "      <td>129880.000000</td>\n",
              "      <td>129880.000000</td>\n",
              "      <td>129880.000000</td>\n",
              "      <td>129880.000000</td>\n",
              "      <td>129880.000000</td>\n",
              "      <td>129880.000000</td>\n",
              "      <td>129880.000000</td>\n",
              "      <td>129880.000000</td>\n",
              "      <td>129880.000000</td>\n",
              "      <td>129487.000000</td>\n",
              "    </tr>\n",
              "    <tr>\n",
              "      <th>mean</th>\n",
              "      <td>39.427957</td>\n",
              "      <td>1190.316392</td>\n",
              "      <td>2.728696</td>\n",
              "      <td>3.057599</td>\n",
              "      <td>2.756876</td>\n",
              "      <td>2.976925</td>\n",
              "      <td>3.204774</td>\n",
              "      <td>3.252633</td>\n",
              "      <td>3.441361</td>\n",
              "      <td>3.358077</td>\n",
              "      <td>3.383023</td>\n",
              "      <td>3.350878</td>\n",
              "      <td>3.632114</td>\n",
              "      <td>3.306267</td>\n",
              "      <td>3.642193</td>\n",
              "      <td>3.286326</td>\n",
              "      <td>14.713713</td>\n",
              "      <td>15.091129</td>\n",
              "    </tr>\n",
              "    <tr>\n",
              "      <th>std</th>\n",
              "      <td>15.119360</td>\n",
              "      <td>997.452477</td>\n",
              "      <td>1.329340</td>\n",
              "      <td>1.526741</td>\n",
              "      <td>1.401740</td>\n",
              "      <td>1.278520</td>\n",
              "      <td>1.329933</td>\n",
              "      <td>1.350719</td>\n",
              "      <td>1.319289</td>\n",
              "      <td>1.334049</td>\n",
              "      <td>1.287099</td>\n",
              "      <td>1.316252</td>\n",
              "      <td>1.180025</td>\n",
              "      <td>1.266185</td>\n",
              "      <td>1.176669</td>\n",
              "      <td>1.313682</td>\n",
              "      <td>38.071126</td>\n",
              "      <td>38.465650</td>\n",
              "    </tr>\n",
              "    <tr>\n",
              "      <th>min</th>\n",
              "      <td>7.000000</td>\n",
              "      <td>31.000000</td>\n",
              "      <td>0.000000</td>\n",
              "      <td>0.000000</td>\n",
              "      <td>0.000000</td>\n",
              "      <td>0.000000</td>\n",
              "      <td>0.000000</td>\n",
              "      <td>0.000000</td>\n",
              "      <td>0.000000</td>\n",
              "      <td>0.000000</td>\n",
              "      <td>0.000000</td>\n",
              "      <td>0.000000</td>\n",
              "      <td>1.000000</td>\n",
              "      <td>0.000000</td>\n",
              "      <td>0.000000</td>\n",
              "      <td>0.000000</td>\n",
              "      <td>0.000000</td>\n",
              "      <td>0.000000</td>\n",
              "    </tr>\n",
              "    <tr>\n",
              "      <th>25%</th>\n",
              "      <td>27.000000</td>\n",
              "      <td>414.000000</td>\n",
              "      <td>2.000000</td>\n",
              "      <td>2.000000</td>\n",
              "      <td>2.000000</td>\n",
              "      <td>2.000000</td>\n",
              "      <td>2.000000</td>\n",
              "      <td>2.000000</td>\n",
              "      <td>2.000000</td>\n",
              "      <td>2.000000</td>\n",
              "      <td>2.000000</td>\n",
              "      <td>2.000000</td>\n",
              "      <td>3.000000</td>\n",
              "      <td>3.000000</td>\n",
              "      <td>3.000000</td>\n",
              "      <td>2.000000</td>\n",
              "      <td>0.000000</td>\n",
              "      <td>0.000000</td>\n",
              "    </tr>\n",
              "    <tr>\n",
              "      <th>50%</th>\n",
              "      <td>40.000000</td>\n",
              "      <td>844.000000</td>\n",
              "      <td>3.000000</td>\n",
              "      <td>3.000000</td>\n",
              "      <td>3.000000</td>\n",
              "      <td>3.000000</td>\n",
              "      <td>3.000000</td>\n",
              "      <td>3.000000</td>\n",
              "      <td>4.000000</td>\n",
              "      <td>4.000000</td>\n",
              "      <td>4.000000</td>\n",
              "      <td>4.000000</td>\n",
              "      <td>4.000000</td>\n",
              "      <td>3.000000</td>\n",
              "      <td>4.000000</td>\n",
              "      <td>3.000000</td>\n",
              "      <td>0.000000</td>\n",
              "      <td>0.000000</td>\n",
              "    </tr>\n",
              "    <tr>\n",
              "      <th>75%</th>\n",
              "      <td>51.000000</td>\n",
              "      <td>1744.000000</td>\n",
              "      <td>4.000000</td>\n",
              "      <td>4.000000</td>\n",
              "      <td>4.000000</td>\n",
              "      <td>4.000000</td>\n",
              "      <td>4.000000</td>\n",
              "      <td>4.000000</td>\n",
              "      <td>5.000000</td>\n",
              "      <td>4.000000</td>\n",
              "      <td>4.000000</td>\n",
              "      <td>4.000000</td>\n",
              "      <td>5.000000</td>\n",
              "      <td>4.000000</td>\n",
              "      <td>5.000000</td>\n",
              "      <td>4.000000</td>\n",
              "      <td>12.000000</td>\n",
              "      <td>13.000000</td>\n",
              "    </tr>\n",
              "    <tr>\n",
              "      <th>max</th>\n",
              "      <td>85.000000</td>\n",
              "      <td>4983.000000</td>\n",
              "      <td>5.000000</td>\n",
              "      <td>5.000000</td>\n",
              "      <td>5.000000</td>\n",
              "      <td>5.000000</td>\n",
              "      <td>5.000000</td>\n",
              "      <td>5.000000</td>\n",
              "      <td>5.000000</td>\n",
              "      <td>5.000000</td>\n",
              "      <td>5.000000</td>\n",
              "      <td>5.000000</td>\n",
              "      <td>5.000000</td>\n",
              "      <td>5.000000</td>\n",
              "      <td>5.000000</td>\n",
              "      <td>5.000000</td>\n",
              "      <td>1592.000000</td>\n",
              "      <td>1584.000000</td>\n",
              "    </tr>\n",
              "  </tbody>\n",
              "</table>\n",
              "</div>"
            ],
            "text/plain": [
              "                 Age  ...  Arrival Delay in Minutes\n",
              "count  129880.000000  ...             129487.000000\n",
              "mean       39.427957  ...                 15.091129\n",
              "std        15.119360  ...                 38.465650\n",
              "min         7.000000  ...                  0.000000\n",
              "25%        27.000000  ...                  0.000000\n",
              "50%        40.000000  ...                  0.000000\n",
              "75%        51.000000  ...                 13.000000\n",
              "max        85.000000  ...               1584.000000\n",
              "\n",
              "[8 rows x 18 columns]"
            ]
          },
          "metadata": {},
          "execution_count": 107
        }
      ]
    },
    {
      "cell_type": "code",
      "metadata": {
        "colab": {
          "base_uri": "https://localhost:8080/"
        },
        "id": "MgDZrOrqVQN0",
        "outputId": "584f0977-7854-46cf-f6e4-134a77505e12"
      },
      "source": [
        "data.info()"
      ],
      "execution_count": null,
      "outputs": [
        {
          "output_type": "stream",
          "name": "stdout",
          "text": [
            "<class 'pandas.core.frame.DataFrame'>\n",
            "RangeIndex: 129880 entries, 0 to 129879\n",
            "Data columns (total 23 columns):\n",
            " #   Column                             Non-Null Count   Dtype  \n",
            "---  ------                             --------------   -----  \n",
            " 0   Gender                             129880 non-null  object \n",
            " 1   Customer Type                      129880 non-null  object \n",
            " 2   Age                                129880 non-null  int64  \n",
            " 3   Type of Travel                     129880 non-null  object \n",
            " 4   Class                              129880 non-null  object \n",
            " 5   Flight Distance                    129880 non-null  int64  \n",
            " 6   Inflight wifi service              129880 non-null  int64  \n",
            " 7   Departure/Arrival time convenient  129880 non-null  int64  \n",
            " 8   Ease of Online booking             129880 non-null  int64  \n",
            " 9   Gate location                      129880 non-null  int64  \n",
            " 10  Food and drink                     129880 non-null  int64  \n",
            " 11  Online boarding                    129880 non-null  int64  \n",
            " 12  Seat comfort                       129880 non-null  int64  \n",
            " 13  Inflight entertainment             129880 non-null  int64  \n",
            " 14  On-board service                   129880 non-null  int64  \n",
            " 15  Leg room service                   129880 non-null  int64  \n",
            " 16  Baggage handling                   129880 non-null  int64  \n",
            " 17  Checkin service                    129880 non-null  int64  \n",
            " 18  Inflight service                   129880 non-null  int64  \n",
            " 19  Cleanliness                        129880 non-null  int64  \n",
            " 20  Departure Delay in Minutes         129880 non-null  int64  \n",
            " 21  Arrival Delay in Minutes           129487 non-null  float64\n",
            " 22  satisfaction                       129880 non-null  object \n",
            "dtypes: float64(1), int64(17), object(5)\n",
            "memory usage: 22.8+ MB\n"
          ]
        }
      ]
    },
    {
      "cell_type": "markdown",
      "metadata": {
        "id": "GD5nxg2bJ_lQ"
      },
      "source": [
        "#Preprocessing<br>\n",
        "Data Cleaning<br>\n",
        "Replace \"neutral or disatisfied\" as \"disatisfied\" for increasing readability in charts"
      ]
    },
    {
      "cell_type": "code",
      "metadata": {
        "id": "bvB-63V2KBWY"
      },
      "source": [
        "data['satisfaction'] = data['satisfaction'].replace(['neutral or dissatisfied'],'dissatisfied')"
      ],
      "execution_count": null,
      "outputs": []
    },
    {
      "cell_type": "code",
      "metadata": {
        "colab": {
          "base_uri": "https://localhost:8080/"
        },
        "id": "px68A3CepG13",
        "outputId": "6306c7d9-93d1-4f91-dc8c-e3bf35c6a225"
      },
      "source": [
        "data['satisfaction'].value_counts()"
      ],
      "execution_count": null,
      "outputs": [
        {
          "output_type": "execute_result",
          "data": {
            "text/plain": [
              "dissatisfied    73452\n",
              "satisfied       56428\n",
              "Name: satisfaction, dtype: int64"
            ]
          },
          "metadata": {},
          "execution_count": 110
        }
      ]
    },
    {
      "cell_type": "markdown",
      "metadata": {
        "id": "3Q0960Nfc4oX"
      },
      "source": [
        " Handling Missing Data"
      ]
    },
    {
      "cell_type": "code",
      "metadata": {
        "colab": {
          "base_uri": "https://localhost:8080/"
        },
        "id": "6OpvlW6oWoNz",
        "outputId": "5e8f2b81-becb-415e-af84-ad9b933b9778"
      },
      "source": [
        "data.isnull().sum()"
      ],
      "execution_count": null,
      "outputs": [
        {
          "output_type": "execute_result",
          "data": {
            "text/plain": [
              "Gender                                 0\n",
              "Customer Type                          0\n",
              "Age                                    0\n",
              "Type of Travel                         0\n",
              "Class                                  0\n",
              "Flight Distance                        0\n",
              "Inflight wifi service                  0\n",
              "Departure/Arrival time convenient      0\n",
              "Ease of Online booking                 0\n",
              "Gate location                          0\n",
              "Food and drink                         0\n",
              "Online boarding                        0\n",
              "Seat comfort                           0\n",
              "Inflight entertainment                 0\n",
              "On-board service                       0\n",
              "Leg room service                       0\n",
              "Baggage handling                       0\n",
              "Checkin service                        0\n",
              "Inflight service                       0\n",
              "Cleanliness                            0\n",
              "Departure Delay in Minutes             0\n",
              "Arrival Delay in Minutes             393\n",
              "satisfaction                           0\n",
              "dtype: int64"
            ]
          },
          "metadata": {},
          "execution_count": 111
        }
      ]
    },
    {
      "cell_type": "markdown",
      "metadata": {
        "id": "0La1wsjSKVkn"
      },
      "source": [
        "Most of the flights are on-time -> Arrival delay is 0.\n",
        "\n",
        "Thus, mode = 0.\n",
        "\n"
      ]
    },
    {
      "cell_type": "code",
      "metadata": {
        "colab": {
          "base_uri": "https://localhost:8080/"
        },
        "id": "16urnkcMoIUC",
        "outputId": "17cf7a86-4d89-4c08-9476-a30698721caa"
      },
      "source": [
        "data['Arrival Delay in Minutes'].mode()"
      ],
      "execution_count": null,
      "outputs": [
        {
          "output_type": "execute_result",
          "data": {
            "text/plain": [
              "0    0.0\n",
              "dtype: float64"
            ]
          },
          "metadata": {},
          "execution_count": 112
        }
      ]
    },
    {
      "cell_type": "code",
      "metadata": {
        "id": "8Rf9M1wuX7Kp"
      },
      "source": [
        "data['Arrival Delay in Minutes'] = data['Arrival Delay in Minutes'].fillna(data['Departure Delay in Minutes'])"
      ],
      "execution_count": null,
      "outputs": []
    },
    {
      "cell_type": "code",
      "metadata": {
        "colab": {
          "base_uri": "https://localhost:8080/"
        },
        "id": "oL7g5mpEYB1C",
        "outputId": "4a16b4af-6eeb-499c-a474-a37ca986ae9d"
      },
      "source": [
        "data.isnull().sum()"
      ],
      "execution_count": null,
      "outputs": [
        {
          "output_type": "execute_result",
          "data": {
            "text/plain": [
              "Gender                               0\n",
              "Customer Type                        0\n",
              "Age                                  0\n",
              "Type of Travel                       0\n",
              "Class                                0\n",
              "Flight Distance                      0\n",
              "Inflight wifi service                0\n",
              "Departure/Arrival time convenient    0\n",
              "Ease of Online booking               0\n",
              "Gate location                        0\n",
              "Food and drink                       0\n",
              "Online boarding                      0\n",
              "Seat comfort                         0\n",
              "Inflight entertainment               0\n",
              "On-board service                     0\n",
              "Leg room service                     0\n",
              "Baggage handling                     0\n",
              "Checkin service                      0\n",
              "Inflight service                     0\n",
              "Cleanliness                          0\n",
              "Departure Delay in Minutes           0\n",
              "Arrival Delay in Minutes             0\n",
              "satisfaction                         0\n",
              "dtype: int64"
            ]
          },
          "metadata": {},
          "execution_count": 114
        }
      ]
    },
    {
      "cell_type": "markdown",
      "metadata": {
        "id": "_9AjGWz_dC4d"
      },
      "source": [
        "#Encoding"
      ]
    },
    {
      "cell_type": "code",
      "metadata": {
        "colab": {
          "base_uri": "https://localhost:8080/"
        },
        "id": "b8SIQEfsaOAF",
        "outputId": "2269e41c-1f39-4334-8a49-b29fb8fca1be"
      },
      "source": [
        "data.columns"
      ],
      "execution_count": null,
      "outputs": [
        {
          "output_type": "execute_result",
          "data": {
            "text/plain": [
              "Index(['Gender', 'Customer Type', 'Age', 'Type of Travel', 'Class',\n",
              "       'Flight Distance', 'Inflight wifi service',\n",
              "       'Departure/Arrival time convenient', 'Ease of Online booking',\n",
              "       'Gate location', 'Food and drink', 'Online boarding', 'Seat comfort',\n",
              "       'Inflight entertainment', 'On-board service', 'Leg room service',\n",
              "       'Baggage handling', 'Checkin service', 'Inflight service',\n",
              "       'Cleanliness', 'Departure Delay in Minutes', 'Arrival Delay in Minutes',\n",
              "       'satisfaction'],\n",
              "      dtype='object')"
            ]
          },
          "metadata": {},
          "execution_count": 115
        }
      ]
    },
    {
      "cell_type": "markdown",
      "metadata": {
        "id": "ZHA_FTSxbCB3"
      },
      "source": [
        "detect categorical data for encoding"
      ]
    },
    {
      "cell_type": "code",
      "metadata": {
        "colab": {
          "base_uri": "https://localhost:8080/"
        },
        "id": "fKqAolPzbDmV",
        "outputId": "92846148-1813-459f-9223-461ceacd545d"
      },
      "source": [
        "data.select_dtypes(include=['object']).columns"
      ],
      "execution_count": null,
      "outputs": [
        {
          "output_type": "execute_result",
          "data": {
            "text/plain": [
              "Index(['Gender', 'Customer Type', 'Type of Travel', 'Class', 'satisfaction'], dtype='object')"
            ]
          },
          "metadata": {},
          "execution_count": 116
        }
      ]
    },
    {
      "cell_type": "code",
      "metadata": {
        "colab": {
          "base_uri": "https://localhost:8080/"
        },
        "id": "nvjjfp_8Y0xU",
        "outputId": "14befedf-a655-44a5-c0ae-875bbd2f02f4"
      },
      "source": [
        "data.Gender.unique()"
      ],
      "execution_count": null,
      "outputs": [
        {
          "output_type": "execute_result",
          "data": {
            "text/plain": [
              "array(['Female', 'Male'], dtype=object)"
            ]
          },
          "metadata": {},
          "execution_count": 117
        }
      ]
    },
    {
      "cell_type": "code",
      "metadata": {
        "colab": {
          "base_uri": "https://localhost:8080/"
        },
        "id": "YxHWMPmYZ9-f",
        "outputId": "1c79972e-f229-401c-8298-3316f2b2b11b"
      },
      "source": [
        "data['Customer Type'].unique()"
      ],
      "execution_count": null,
      "outputs": [
        {
          "output_type": "execute_result",
          "data": {
            "text/plain": [
              "array(['Loyal Customer', 'disloyal Customer'], dtype=object)"
            ]
          },
          "metadata": {},
          "execution_count": 118
        }
      ]
    },
    {
      "cell_type": "code",
      "metadata": {
        "colab": {
          "base_uri": "https://localhost:8080/"
        },
        "id": "PjXglEs2agYi",
        "outputId": "fa6115ac-0e03-400f-ebaf-48f7a844f31e"
      },
      "source": [
        "data['Type of Travel'].unique()"
      ],
      "execution_count": null,
      "outputs": [
        {
          "output_type": "execute_result",
          "data": {
            "text/plain": [
              "array(['Business travel', 'Personal Travel'], dtype=object)"
            ]
          },
          "metadata": {},
          "execution_count": 119
        }
      ]
    },
    {
      "cell_type": "code",
      "metadata": {
        "colab": {
          "base_uri": "https://localhost:8080/"
        },
        "id": "-Iwi-dPjaUiM",
        "outputId": "ea9d0778-a069-4c62-aadd-50db13deae40"
      },
      "source": [
        "data['Class'].unique()"
      ],
      "execution_count": null,
      "outputs": [
        {
          "output_type": "execute_result",
          "data": {
            "text/plain": [
              "array(['Eco', 'Business', 'Eco Plus'], dtype=object)"
            ]
          },
          "metadata": {},
          "execution_count": 120
        }
      ]
    },
    {
      "cell_type": "code",
      "metadata": {
        "id": "gXBkBxzCaz7b"
      },
      "source": [
        "encoded = data.copy()"
      ],
      "execution_count": null,
      "outputs": []
    },
    {
      "cell_type": "code",
      "metadata": {
        "id": "gFY73_ffakp7"
      },
      "source": [
        "encoded['Gender']= label_encoder.fit_transform(encoded['Gender'])\n",
        "encoded['Customer Type']= label_encoder.fit_transform(encoded['Customer Type'])\n",
        "encoded['Type of Travel']= label_encoder.fit_transform(encoded['Type of Travel'])\n",
        "encoded['Class']= label_encoder.fit_transform(encoded['Class'])\n",
        "encoded['satisfaction']= label_encoder.fit_transform(encoded['satisfaction'])"
      ],
      "execution_count": null,
      "outputs": []
    },
    {
      "cell_type": "code",
      "metadata": {
        "colab": {
          "base_uri": "https://localhost:8080/",
          "height": 278
        },
        "id": "fwRs0B5ra8Vn",
        "outputId": "eafd46a9-1089-475d-b3c3-48d8b3f4f243"
      },
      "source": [
        "encoded.head(5)"
      ],
      "execution_count": null,
      "outputs": [
        {
          "output_type": "execute_result",
          "data": {
            "text/html": [
              "<div>\n",
              "<style scoped>\n",
              "    .dataframe tbody tr th:only-of-type {\n",
              "        vertical-align: middle;\n",
              "    }\n",
              "\n",
              "    .dataframe tbody tr th {\n",
              "        vertical-align: top;\n",
              "    }\n",
              "\n",
              "    .dataframe thead th {\n",
              "        text-align: right;\n",
              "    }\n",
              "</style>\n",
              "<table border=\"1\" class=\"dataframe\">\n",
              "  <thead>\n",
              "    <tr style=\"text-align: right;\">\n",
              "      <th></th>\n",
              "      <th>Gender</th>\n",
              "      <th>Customer Type</th>\n",
              "      <th>Age</th>\n",
              "      <th>Type of Travel</th>\n",
              "      <th>Class</th>\n",
              "      <th>Flight Distance</th>\n",
              "      <th>Inflight wifi service</th>\n",
              "      <th>Departure/Arrival time convenient</th>\n",
              "      <th>Ease of Online booking</th>\n",
              "      <th>Gate location</th>\n",
              "      <th>Food and drink</th>\n",
              "      <th>Online boarding</th>\n",
              "      <th>Seat comfort</th>\n",
              "      <th>Inflight entertainment</th>\n",
              "      <th>On-board service</th>\n",
              "      <th>Leg room service</th>\n",
              "      <th>Baggage handling</th>\n",
              "      <th>Checkin service</th>\n",
              "      <th>Inflight service</th>\n",
              "      <th>Cleanliness</th>\n",
              "      <th>Departure Delay in Minutes</th>\n",
              "      <th>Arrival Delay in Minutes</th>\n",
              "      <th>satisfaction</th>\n",
              "    </tr>\n",
              "  </thead>\n",
              "  <tbody>\n",
              "    <tr>\n",
              "      <th>0</th>\n",
              "      <td>0</td>\n",
              "      <td>0</td>\n",
              "      <td>52</td>\n",
              "      <td>0</td>\n",
              "      <td>1</td>\n",
              "      <td>160</td>\n",
              "      <td>5</td>\n",
              "      <td>4</td>\n",
              "      <td>3</td>\n",
              "      <td>4</td>\n",
              "      <td>3</td>\n",
              "      <td>4</td>\n",
              "      <td>3</td>\n",
              "      <td>5</td>\n",
              "      <td>5</td>\n",
              "      <td>5</td>\n",
              "      <td>5</td>\n",
              "      <td>2</td>\n",
              "      <td>5</td>\n",
              "      <td>5</td>\n",
              "      <td>50</td>\n",
              "      <td>44.0</td>\n",
              "      <td>1</td>\n",
              "    </tr>\n",
              "    <tr>\n",
              "      <th>1</th>\n",
              "      <td>0</td>\n",
              "      <td>0</td>\n",
              "      <td>36</td>\n",
              "      <td>0</td>\n",
              "      <td>0</td>\n",
              "      <td>2863</td>\n",
              "      <td>1</td>\n",
              "      <td>1</td>\n",
              "      <td>3</td>\n",
              "      <td>1</td>\n",
              "      <td>5</td>\n",
              "      <td>4</td>\n",
              "      <td>5</td>\n",
              "      <td>4</td>\n",
              "      <td>4</td>\n",
              "      <td>4</td>\n",
              "      <td>4</td>\n",
              "      <td>3</td>\n",
              "      <td>4</td>\n",
              "      <td>5</td>\n",
              "      <td>0</td>\n",
              "      <td>0.0</td>\n",
              "      <td>1</td>\n",
              "    </tr>\n",
              "    <tr>\n",
              "      <th>2</th>\n",
              "      <td>1</td>\n",
              "      <td>1</td>\n",
              "      <td>20</td>\n",
              "      <td>0</td>\n",
              "      <td>1</td>\n",
              "      <td>192</td>\n",
              "      <td>2</td>\n",
              "      <td>0</td>\n",
              "      <td>2</td>\n",
              "      <td>4</td>\n",
              "      <td>2</td>\n",
              "      <td>2</td>\n",
              "      <td>2</td>\n",
              "      <td>2</td>\n",
              "      <td>4</td>\n",
              "      <td>1</td>\n",
              "      <td>3</td>\n",
              "      <td>2</td>\n",
              "      <td>2</td>\n",
              "      <td>2</td>\n",
              "      <td>0</td>\n",
              "      <td>0.0</td>\n",
              "      <td>0</td>\n",
              "    </tr>\n",
              "    <tr>\n",
              "      <th>3</th>\n",
              "      <td>1</td>\n",
              "      <td>0</td>\n",
              "      <td>44</td>\n",
              "      <td>0</td>\n",
              "      <td>0</td>\n",
              "      <td>3377</td>\n",
              "      <td>0</td>\n",
              "      <td>0</td>\n",
              "      <td>0</td>\n",
              "      <td>2</td>\n",
              "      <td>3</td>\n",
              "      <td>4</td>\n",
              "      <td>4</td>\n",
              "      <td>1</td>\n",
              "      <td>1</td>\n",
              "      <td>1</td>\n",
              "      <td>1</td>\n",
              "      <td>3</td>\n",
              "      <td>1</td>\n",
              "      <td>4</td>\n",
              "      <td>0</td>\n",
              "      <td>6.0</td>\n",
              "      <td>1</td>\n",
              "    </tr>\n",
              "    <tr>\n",
              "      <th>4</th>\n",
              "      <td>0</td>\n",
              "      <td>0</td>\n",
              "      <td>49</td>\n",
              "      <td>0</td>\n",
              "      <td>1</td>\n",
              "      <td>1182</td>\n",
              "      <td>2</td>\n",
              "      <td>3</td>\n",
              "      <td>4</td>\n",
              "      <td>3</td>\n",
              "      <td>4</td>\n",
              "      <td>1</td>\n",
              "      <td>2</td>\n",
              "      <td>2</td>\n",
              "      <td>2</td>\n",
              "      <td>2</td>\n",
              "      <td>2</td>\n",
              "      <td>4</td>\n",
              "      <td>2</td>\n",
              "      <td>4</td>\n",
              "      <td>0</td>\n",
              "      <td>20.0</td>\n",
              "      <td>1</td>\n",
              "    </tr>\n",
              "  </tbody>\n",
              "</table>\n",
              "</div>"
            ],
            "text/plain": [
              "   Gender  Customer Type  ...  Arrival Delay in Minutes  satisfaction\n",
              "0       0              0  ...                      44.0             1\n",
              "1       0              0  ...                       0.0             1\n",
              "2       1              1  ...                       0.0             0\n",
              "3       1              0  ...                       6.0             1\n",
              "4       0              0  ...                      20.0             1\n",
              "\n",
              "[5 rows x 23 columns]"
            ]
          },
          "metadata": {},
          "execution_count": 123
        }
      ]
    },
    {
      "cell_type": "markdown",
      "metadata": {
        "id": "hjjI08LmNQZ_"
      },
      "source": [
        "# Outliers"
      ]
    },
    {
      "cell_type": "code",
      "metadata": {
        "id": "7kqFHQTFMTPB"
      },
      "source": [
        "df = data.copy()"
      ],
      "execution_count": null,
      "outputs": []
    },
    {
      "cell_type": "code",
      "metadata": {
        "colab": {
          "base_uri": "https://localhost:8080/",
          "height": 335
        },
        "id": "lOAhlXg4MfrC",
        "outputId": "a6bede92-2afb-4af3-84c4-caa8bb4457cf"
      },
      "source": [
        "sns.boxplot(df[\"Flight Distance\"])\n",
        "plt.show()"
      ],
      "execution_count": null,
      "outputs": [
        {
          "output_type": "stream",
          "name": "stderr",
          "text": [
            "/usr/local/lib/python3.7/dist-packages/seaborn/_decorators.py:43: FutureWarning: Pass the following variable as a keyword arg: x. From version 0.12, the only valid positional argument will be `data`, and passing other arguments without an explicit keyword will result in an error or misinterpretation.\n",
            "  FutureWarning\n"
          ]
        },
        {
          "output_type": "display_data",
          "data": {
            "image/png": "[encoded data removed]",
            "text/plain": [
              "<Figure size 432x288 with 1 Axes>"
            ]
          },
          "metadata": {
            "needs_background": "light"
          }
        }
      ]
    },
    {
      "cell_type": "code",
      "metadata": {
        "colab": {
          "base_uri": "https://localhost:8080/"
        },
        "id": "_JOpOljKMnHI",
        "outputId": "ca4ae978-ced1-483a-8379-bff905c770a3"
      },
      "source": [
        "q1 = df['Flight Distance'].quantile(0.25)\n",
        "print(q1)\n",
        "q3 = df['Flight Distance'].quantile(0.75)\n",
        "print(q3)\n",
        "iqr = q3-q1\n",
        "print(iqr)"
      ],
      "execution_count": null,
      "outputs": [
        {
          "output_type": "stream",
          "name": "stdout",
          "text": [
            "414.0\n",
            "1744.0\n",
            "1330.0\n"
          ]
        }
      ]
    },
    {
      "cell_type": "code",
      "metadata": {
        "colab": {
          "base_uri": "https://localhost:8080/"
        },
        "id": "UtuVCX69Mzm-",
        "outputId": "4f982499-747d-4dd0-faec-c5f4db56d38f"
      },
      "source": [
        "upper = q3+1.5*iqr\n",
        "print(upper)\n",
        "lower = q1-1.5*iqr\n",
        "print(lower)"
      ],
      "execution_count": null,
      "outputs": [
        {
          "output_type": "stream",
          "name": "stdout",
          "text": [
            "3739.0\n",
            "-1581.0\n"
          ]
        }
      ]
    },
    {
      "cell_type": "code",
      "metadata": {
        "id": "UBc0rJ2nM5YV"
      },
      "source": [
        "df1 = df['Flight Distance']\n",
        "n1 = np.where(df1>=upper)\n",
        "n2 = np.where(df1<=lower)\n",
        "df1.drop(n1[0], inplace = True)\n",
        "df1.drop(n2[0], inplace = True)"
      ],
      "execution_count": null,
      "outputs": []
    },
    {
      "cell_type": "code",
      "metadata": {
        "colab": {
          "base_uri": "https://localhost:8080/"
        },
        "id": "dKEiHOzNNDTR",
        "outputId": "879c7b46-4cb3-4e07-a22c-83fe483a5cb3"
      },
      "source": [
        "df1.shape"
      ],
      "execution_count": null,
      "outputs": [
        {
          "output_type": "execute_result",
          "data": {
            "text/plain": [
              "(127016,)"
            ]
          },
          "metadata": {},
          "execution_count": 129
        }
      ]
    },
    {
      "cell_type": "code",
      "metadata": {
        "colab": {
          "base_uri": "https://localhost:8080/",
          "height": 354
        },
        "id": "Hfx35gVyNGBp",
        "outputId": "4a2a68a0-b593-4cc7-e375-8db6f7bf88dd"
      },
      "source": [
        "sns.boxplot(df1)"
      ],
      "execution_count": null,
      "outputs": [
        {
          "output_type": "stream",
          "name": "stderr",
          "text": [
            "/usr/local/lib/python3.7/dist-packages/seaborn/_decorators.py:43: FutureWarning: Pass the following variable as a keyword arg: x. From version 0.12, the only valid positional argument will be `data`, and passing other arguments without an explicit keyword will result in an error or misinterpretation.\n",
            "  FutureWarning\n"
          ]
        },
        {
          "output_type": "execute_result",
          "data": {
            "text/plain": [
              "<matplotlib.axes._subplots.AxesSubplot at 0x7f5246178650>"
            ]
          },
          "metadata": {},
          "execution_count": 130
        },
        {
          "output_type": "display_data",
          "data": {
            "image/png": "[encoded data removed]",
            "text/plain": [
              "<Figure size 432x288 with 1 Axes>"
            ]
          },
          "metadata": {
            "needs_background": "light"
          }
        }
      ]
    },
    {
      "cell_type": "markdown",
      "metadata": {
        "id": "08h5rf63dlOX"
      },
      "source": [
        "# Visualization"
      ]
    },
    {
      "cell_type": "code",
      "metadata": {
        "colab": {
          "base_uri": "https://localhost:8080/"
        },
        "id": "7eu-iFEzluE0",
        "outputId": "88d5782e-86de-46f2-fc29-775bda2bba07"
      },
      "source": [
        "data['satisfaction'].mode()"
      ],
      "execution_count": null,
      "outputs": [
        {
          "output_type": "execute_result",
          "data": {
            "text/plain": [
              "0    dissatisfied\n",
              "dtype: object"
            ]
          },
          "metadata": {},
          "execution_count": 131
        }
      ]
    },
    {
      "cell_type": "code",
      "metadata": {
        "colab": {
          "base_uri": "https://localhost:8080/",
          "height": 383
        },
        "id": "-mOrIrIrd0yO",
        "outputId": "571c4e95-e3fb-4582-8718-5153275ec874"
      },
      "source": [
        "fig = plt.figure(figsize = (5,5))\n",
        "data.satisfaction.value_counts(normalize = True).plot(kind='bar', color= ['#A2142F','#77AC30'])\n",
        "plt.title('Satisfaction')\n",
        "plt.show()"
      ],
      "execution_count": null,
      "outputs": [
        {
          "output_type": "display_data",
          "data": {
            "image/png": "[encoded data removed]",
            "text/plain": [
              "<Figure size 360x360 with 1 Axes>"
            ]
          },
          "metadata": {
            "needs_background": "light"
          }
        }
      ]
    },
    {
      "cell_type": "markdown",
      "metadata": {
        "id": "zhnvjhrfiEQp"
      },
      "source": [
        "Inference:<br>\n",
        "**Satisfaction:**\n",
        "There are more unsatisfied customers than satisfied."
      ]
    },
    {
      "cell_type": "markdown",
      "metadata": {
        "id": "8gEG9K8PwnUp"
      },
      "source": [
        "### **<center>Gender vs Satisfaction</center>**\n",
        "\n",
        "<a name=\"4\"></a>"
      ]
    },
    {
      "cell_type": "code",
      "metadata": {
        "colab": {
          "base_uri": "https://localhost:8080/",
          "height": 189
        },
        "id": "p5DVmGhUd928",
        "outputId": "35fb509c-5871-416a-cb46-da029f1c144f"
      },
      "source": [
        "graph = sns.catplot(x=\"satisfaction\", col=\"Gender\", col_wrap=2, data=data, kind=\"count\", height=2.5, aspect=1.0, palette=sns.color_palette(['#77AC30', '#A2142F']))  \n",
        "plt.show()"
      ],
      "execution_count": null,
      "outputs": [
        {
          "output_type": "display_data",
          "data": {
            "image/png": "[encoded data removed]",
            "text/plain": [
              "<Figure size 360x180 with 2 Axes>"
            ]
          },
          "metadata": {
            "needs_background": "light"
          }
        }
      ]
    },
    {
      "cell_type": "markdown",
      "metadata": {
        "id": "gSVjZNr1iQtu"
      },
      "source": [
        "Inference:<br>\n",
        "**Gender:**\n",
        "As it can be observed the distribution based on gender and satisfaction is the same on both genders .\n",
        "There are more unsatified customers."
      ]
    },
    {
      "cell_type": "markdown",
      "metadata": {
        "id": "NsZxFDiMxYgN"
      },
      "source": [
        "### **<center>Customer Type vs Satisfaction</center>**"
      ]
    },
    {
      "cell_type": "code",
      "metadata": {
        "colab": {
          "base_uri": "https://localhost:8080/",
          "height": 225
        },
        "id": "NfcqGEIcenJh",
        "outputId": "b5664f3c-7fcc-4663-fc06-ed26b837b6c9"
      },
      "source": [
        "graph = sns.catplot(x=\"satisfaction\", col=\"Customer Type\", col_wrap=2, data=data, kind=\"count\", height=3, aspect=1.0, palette=sns.color_palette(['#77AC30', '#A2142F']))\n",
        "plt.show()"
      ],
      "execution_count": null,
      "outputs": [
        {
          "output_type": "display_data",
          "data": {
            "image/png": "[encoded data removed]",
            "text/plain": [
              "<Figure size 432x216 with 2 Axes>"
            ]
          },
          "metadata": {
            "needs_background": "light"
          }
        }
      ]
    },
    {
      "cell_type": "markdown",
      "metadata": {
        "id": "tafoRTNqjpDs"
      },
      "source": [
        "Inference:<br>\n",
        "**Customer Type:**\n",
        "\n",
        "Loyal customers - No of loyal customers are higher than disloyal, but the satisfaction levels are nearly equal with more dissatisfied loyal customers.\n",
        "\n",
        "Disloyal customers - No of disloyal customers is on the lower side but dissatisfaction among the disloyal customers is visibly higher than satisfied customers."
      ]
    },
    {
      "cell_type": "markdown",
      "metadata": {
        "id": "5e9Uwd-sxd_0"
      },
      "source": [
        "### **<center>Age vs Satisfaction</center>**"
      ]
    },
    {
      "cell_type": "markdown",
      "metadata": {
        "id": "jWqBPSMnFrr8"
      },
      "source": [
        "\n",
        "<a name=\"5\"></a>\n",
        "Customer's age could be a deciding factor to determine satisfaction. Expecting a trend in age and the decision they make."
      ]
    },
    {
      "cell_type": "code",
      "metadata": {
        "colab": {
          "base_uri": "https://localhost:8080/"
        },
        "id": "b-F4uxaufEdk",
        "outputId": "8f7d172d-cd61-4f0d-b15c-08dd4429c670"
      },
      "source": [
        "data.Age.max()"
      ],
      "execution_count": null,
      "outputs": [
        {
          "output_type": "execute_result",
          "data": {
            "text/plain": [
              "85"
            ]
          },
          "metadata": {},
          "execution_count": 135
        }
      ]
    },
    {
      "cell_type": "code",
      "metadata": {
        "colab": {
          "base_uri": "https://localhost:8080/"
        },
        "id": "BzFGSy8ClrjF",
        "outputId": "8e8d028c-0c4f-4317-e6c3-15a5c5eb0043"
      },
      "source": [
        "data.Age.min()"
      ],
      "execution_count": null,
      "outputs": [
        {
          "output_type": "execute_result",
          "data": {
            "text/plain": [
              "7"
            ]
          },
          "metadata": {},
          "execution_count": 136
        }
      ]
    },
    {
      "cell_type": "code",
      "metadata": {
        "colab": {
          "base_uri": "https://localhost:8080/",
          "height": 279
        },
        "id": "G2-E83cbjLam",
        "outputId": "6a6cc750-4829-41a3-e53c-11057acba9e6"
      },
      "source": [
        "sns.histplot(x='Age', hue=\"satisfaction\", stat=\"count\", binwidth=1, data=data, kde=True)\n",
        "plt.show()"
      ],
      "execution_count": null,
      "outputs": [
        {
          "output_type": "display_data",
          "data": {
            "image/png": "[encoded data removed]",
            "text/plain": [
              "<Figure size 432x288 with 1 Axes>"
            ]
          },
          "metadata": {
            "needs_background": "light"
          }
        }
      ]
    },
    {
      "cell_type": "markdown",
      "metadata": {
        "id": "WgRHNlYrda2t"
      },
      "source": [
        "Inference:<br>\n",
        "**AGE:**\n",
        "\n",
        "Customers in the age groups of 7-37 and 61-80 are more dissatisfied with the flight. While customers in the age group of 39-60 have a higher satisfaction rate.\n",
        "\n",
        "Age group between 60-70 seems to be uniform curve. \n",
        "\n",
        "There could be a one single reason(with respect to age) for everyone in the age group for getting dissatisfied.\n",
        "\n"
      ]
    },
    {
      "cell_type": "markdown",
      "metadata": {
        "id": "gS3kh55DxleJ"
      },
      "source": [
        "### **<center>Class vs Satisfaction</center>**\n",
        "\n",
        "<a name=\"3\"></a>"
      ]
    },
    {
      "cell_type": "code",
      "metadata": {
        "colab": {
          "base_uri": "https://localhost:8080/",
          "height": 189
        },
        "id": "Obqk3XxKmJc2",
        "outputId": "e738d3dd-727a-42a8-82d1-98c7f1b04cdf"
      },
      "source": [
        "graph = sns.catplot(x=\"satisfaction\", col=\"Class\", col_wrap=3, data=data, kind=\"count\", height=2.5, aspect=1.0, palette=sns.color_palette(['#77AC30', '#A2142F']))\n",
        "plt.show()"
      ],
      "execution_count": null,
      "outputs": [
        {
          "output_type": "display_data",
          "data": {
            "image/png": "[encoded data removed]",
            "text/plain": [
              "<Figure size 540x180 with 3 Axes>"
            ]
          },
          "metadata": {
            "needs_background": "light"
          }
        }
      ]
    },
    {
      "cell_type": "markdown",
      "metadata": {
        "id": "GJiNfVs4fl5h"
      },
      "source": [
        "Inference:<br>\n",
        "**CLASS:**\n",
        "\n",
        "Eco and Eco plus has a high rate of disatisfied customers when compared to satisfied passengers in their class, on the contrary Business class customers are more satisfied with the flight. \n"
      ]
    },
    {
      "cell_type": "markdown",
      "metadata": {
        "id": "Z6wCMKQcjpU2"
      },
      "source": [
        "### **<center>Type of Travel vs Satisfaction</center>**\n",
        "\n",
        "<a name=\"7\"></a>"
      ]
    },
    {
      "cell_type": "code",
      "metadata": {
        "colab": {
          "base_uri": "https://localhost:8080/"
        },
        "id": "WatU8ixEYT5S",
        "outputId": "72690dca-195c-4232-f019-79237df4d17b"
      },
      "source": [
        "data['Type of Travel'].value_counts()"
      ],
      "execution_count": null,
      "outputs": [
        {
          "output_type": "execute_result",
          "data": {
            "text/plain": [
              "Business travel    89693\n",
              "Personal Travel    40187\n",
              "Name: Type of Travel, dtype: int64"
            ]
          },
          "metadata": {},
          "execution_count": 139
        }
      ]
    },
    {
      "cell_type": "code",
      "metadata": {
        "colab": {
          "base_uri": "https://localhost:8080/",
          "height": 225
        },
        "id": "gYfg0QqbgCx7",
        "outputId": "16ff65fb-6570-4afd-b7de-7c7be3e91371"
      },
      "source": [
        "graph = sns.catplot(x=\"satisfaction\", col='Type of Travel', data=data, kind=\"count\", height=3,aspect=1, palette=sns.color_palette(['#77AC30', '#A2142F']))\n",
        "plt.show()"
      ],
      "execution_count": null,
      "outputs": [
        {
          "output_type": "display_data",
          "data": {
            "image/png": "[encoded data removed]",
            "text/plain": [
              "<Figure size 432x216 with 2 Axes>"
            ]
          },
          "metadata": {
            "needs_background": "light"
          }
        }
      ]
    },
    {
      "cell_type": "markdown",
      "metadata": {
        "id": "009DoM0KkVRl"
      },
      "source": [
        "Inference:<br>\n",
        "Type of Travel: Customers travelling for personal reasons are more dissatisfied with the flight than customers travelling for business reasons.\n",
        "\n",
        "Personal travel is associated with low satisfaction levels."
      ]
    },
    {
      "cell_type": "markdown",
      "metadata": {
        "id": "rgd00Oz4j5qA"
      },
      "source": [
        "### **<center>Flight Distance vs Satisfaction</center>**"
      ]
    },
    {
      "cell_type": "code",
      "metadata": {
        "colab": {
          "base_uri": "https://localhost:8080/",
          "height": 279
        },
        "id": "8mmpXV09peO2",
        "outputId": "542fc869-d046-4b0a-f57d-001a5a8af1c4"
      },
      "source": [
        "sns.histplot(x='Flight Distance', hue=\"satisfaction\", data=data, kde=True, binwidth = 100, palette=sns.color_palette(['#77AC30', '#A2142F']))\n",
        "plt.show()"
      ],
      "execution_count": null,
      "outputs": [
        {
          "output_type": "display_data",
          "data": {
            "image/png": "[encoded data removed]",
            "text/plain": [
              "<Figure size 432x288 with 1 Axes>"
            ]
          },
          "metadata": {
            "needs_background": "light"
          }
        }
      ]
    },
    {
      "cell_type": "markdown",
      "metadata": {
        "id": "0bziE2utkpy0"
      },
      "source": [
        "Inference:<br>\n",
        "FLIGHT DISTANCE:\n",
        "Longer Flights(1500-4100) generally have a higher satisfaction rate than flights of smaller length(0-1400).\n",
        "\n",
        "Eco and Eco + : shorter flights were taken more often in these classes "
      ]
    },
    {
      "cell_type": "markdown",
      "metadata": {
        "id": "1OU1wA0_j-8H"
      },
      "source": [
        "### **<center>Departure Delay, Arrival Delay vs Satisfaction</center>**\n",
        "\n",
        "<a name=\"1\"></a>"
      ]
    },
    {
      "cell_type": "code",
      "metadata": {
        "colab": {
          "base_uri": "https://localhost:8080/",
          "height": 369
        },
        "id": "6BYLMyDAgvwb",
        "outputId": "e30aae27-55e5-446c-d308-869264c85633"
      },
      "source": [
        "sns.catplot(x='Departure Delay in Minutes', y='Class', hue =\"satisfaction\",  data=data, kind=\"bar\", palette=sns.color_palette(['#77AC30', '#A2142F']))\n",
        "plt.show()"
      ],
      "execution_count": null,
      "outputs": [
        {
          "output_type": "display_data",
          "data": {
            "image/png": "[encoded data removed]",
            "text/plain": [
              "<Figure size 452.875x360 with 1 Axes>"
            ]
          },
          "metadata": {
            "needs_background": "light"
          }
        }
      ]
    },
    {
      "cell_type": "code",
      "metadata": {
        "colab": {
          "base_uri": "https://localhost:8080/",
          "height": 369
        },
        "id": "6VuOm4gbkRMV",
        "outputId": "d05b9e60-6da9-493e-df04-6f53dc9685eb"
      },
      "source": [
        "data['Arrival Delay in Minutes'] = data['Arrival Delay in Minutes'].round(0).astype(int)\n",
        "sns.catplot(x='Arrival Delay in Minutes', y='Class', hue =\"satisfaction\",  data=data, kind=\"bar\", palette=sns.color_palette(['#77AC30', '#A2142F']))\n",
        "plt.show()"
      ],
      "execution_count": null,
      "outputs": [
        {
          "output_type": "display_data",
          "data": {
            "image/png": "[encoded data removed]",
            "text/plain": [
              "<Figure size 452.875x360 with 1 Axes>"
            ]
          },
          "metadata": {
            "needs_background": "light"
          }
        }
      ]
    },
    {
      "cell_type": "markdown",
      "metadata": {
        "id": "mHAkSzSllwvv"
      },
      "source": [
        "Inference:<br>\n",
        "Arrival Delay in Minutes & Departure Delay in Minutes:\n",
        "\n",
        "Lesser delay resulted in more satisfied customers , likewise higher delay resulted in dissatified customers"
      ]
    },
    {
      "cell_type": "markdown",
      "metadata": {
        "id": "nz5H7myfkaGE"
      },
      "source": [
        "### **<center>Correlation(features vs Satisfaction)</center>**"
      ]
    },
    {
      "cell_type": "code",
      "metadata": {
        "colab": {
          "base_uri": "https://localhost:8080/",
          "height": 376
        },
        "id": "Dl02ydd0lqiK",
        "outputId": "ef65f0ac-b9cc-44d2-b2ea-b0a2ca4f96ff"
      },
      "source": [
        "d1 = data.copy()\n",
        "d1['satisfaction']= label_encoder.fit_transform(d1['satisfaction'])\n",
        "plt.figure(figsize = (18,3))\n",
        "sns.heatmap(d1.corr().loc[['satisfaction'],:], annot = True)\n",
        "plt.show()"
      ],
      "execution_count": null,
      "outputs": [
        {
          "output_type": "display_data",
          "data": {
            "image/png": "[encoded data removed]",
            "text/plain": [
              "<Figure size 1296x216 with 2 Axes>"
            ]
          },
          "metadata": {
            "needs_background": "light"
          }
        }
      ]
    },
    {
      "cell_type": "markdown",
      "metadata": {
        "id": "WfXjgU4bmLij"
      },
      "source": [
        "Inference:<br>\n",
        "CORRELATION OF DATA :\n",
        "\n",
        "Satisfaction vs - Higher rating in Online boarding has the most positive impact in getting satisfied customers followed by Ratings of  inflight entertainment and Seat comfort.\n",
        "\n",
        "On the other end Higher values of Time convinience ,Delay and gatelocation \n"
      ]
    },
    {
      "cell_type": "markdown",
      "metadata": {
        "id": "rsMZBP25krAb"
      },
      "source": [
        "### **<center>Online boarding Satisfaction Analysis</center>**"
      ]
    },
    {
      "cell_type": "code",
      "metadata": {
        "colab": {
          "base_uri": "https://localhost:8080/",
          "height": 497
        },
        "id": "RFqpFPz8Vhu6",
        "outputId": "93b6c681-4d56-4530-8361-b570491b10c3"
      },
      "source": [
        "plt.figure(figsize = (8,8))\n",
        "sns.boxplot(x='satisfaction', y ='Online boarding', data=data, palette=sns.color_palette(['#77AC30', '#A2142F']))\n",
        "plt.show()"
      ],
      "execution_count": null,
      "outputs": [
        {
          "output_type": "display_data",
          "data": {
            "image/png": "[encoded data removed]",
            "text/plain": [
              "<Figure size 576x576 with 1 Axes>"
            ]
          },
          "metadata": {
            "needs_background": "light"
          }
        }
      ]
    },
    {
      "cell_type": "markdown",
      "metadata": {
        "id": "g1cr7JlY81AA"
      },
      "source": [
        "Inference: Online Boarding is more skewed towards satisfaction."
      ]
    },
    {
      "cell_type": "markdown",
      "metadata": {
        "id": "C3q96DGrubVD"
      },
      "source": [
        "# Hypotheses"
      ]
    },
    {
      "cell_type": "markdown",
      "metadata": {
        "id": "xj5GdxgamGsw"
      },
      "source": [
        "\n",
        "\n",
        "1. [High arrival delay can lead to less passenger satisfaction.](#1)\n",
        "2. [Departure delay may lead to Arrival delay.](#2)\n",
        "3. [Economy class has highest proportion of dissatisfied passengers.](#3)\n",
        "4. [Female passengers are associated with low satisfaction levels.](#4)\n",
        "5. [Customer's age could be a deciding factor to determine satisfaction. Aged people ranging 60 to 70 may be unsatisfied due to common reason like poor service provided, etc.](#5)\n",
        "6. [Middle aged may be highly satisfied when travelling in business class.(Age has negative impact as it increases)](#6)\n",
        "7. [Passengers travelling for personal puposes are more dissatisfied than Business Travel passengers (due to various external factors)-Proof by contradiction](#7)\n",
        "8. [Seat comfortness may lead to more satisfaction.](#8)\n",
        "9. [More satisfied the passenger is with inflight entertainment, satisfaction rate of him/her will be high.](#9)\n",
        "10. [Passengers with high seat comfort tend to enjoy inflight entertainment more likely.](#10) \n"
      ]
    },
    {
      "cell_type": "markdown",
      "metadata": {
        "id": "7APD1rE8ukpR"
      },
      "source": [
        "<a name=\"6\"></a>\n",
        "\n",
        "Inter-quantile age is 27 to 51"
      ]
    },
    {
      "cell_type": "code",
      "metadata": {
        "colab": {
          "base_uri": "https://localhost:8080/",
          "height": 369
        },
        "id": "QyPpSqt5szq4",
        "outputId": "f5601352-cd37-4597-fe28-169dcaa4acbb"
      },
      "source": [
        "df_middle_age = data[data[\"Age\"].between(27,51)]\n",
        "sns.catplot(x=\"satisfaction\", col=\"Class\", data=df_middle_age, kind=\"count\", palette=sns.color_palette(['#77AC30', '#A2142F']))\n",
        "plt.show()"
      ],
      "execution_count": null,
      "outputs": [
        {
          "output_type": "display_data",
          "data": {
            "image/png": "[encoded data removed]",
            "text/plain": [
              "<Figure size 1080x360 with 3 Axes>"
            ]
          },
          "metadata": {
            "needs_background": "light"
          }
        }
      ]
    },
    {
      "cell_type": "markdown",
      "metadata": {
        "id": "JhDLYvmGr6uB"
      },
      "source": [
        "<a name=\"2\"></a>\n"
      ]
    },
    {
      "cell_type": "code",
      "metadata": {
        "colab": {
          "base_uri": "https://localhost:8080/",
          "height": 279
        },
        "id": "6jnoueGVq41v",
        "outputId": "01fcd129-542a-46b4-cb89-6a9bef158d04"
      },
      "source": [
        "plt.scatter(data['Arrival Delay in Minutes'], data['Departure Delay in Minutes'])\n",
        "plt.xlabel('Arrival Delay in Minutes')\n",
        "plt.ylabel('Departure Delay in Minutes')\n",
        "plt.show()"
      ],
      "execution_count": null,
      "outputs": [
        {
          "output_type": "display_data",
          "data": {
            "image/png": "[encoded data removed]",
            "text/plain": [
              "<Figure size 432x288 with 1 Axes>"
            ]
          },
          "metadata": {
            "needs_background": "light"
          }
        }
      ]
    },
    {
      "cell_type": "markdown",
      "metadata": {
        "id": "hNHOVpETUCe9"
      },
      "source": [
        "<a name=\"8\"></a>"
      ]
    },
    {
      "cell_type": "code",
      "metadata": {
        "colab": {
          "base_uri": "https://localhost:8080/",
          "height": 189
        },
        "id": "xAa0o23QT-6Q",
        "outputId": "6ee5e85c-1a50-4f76-ef2b-5e13a4c37440"
      },
      "source": [
        "sns.catplot(x=\"satisfaction\", col=\"Seat comfort\", col_wrap=6, data=data, kind=\"count\", height=2.5, aspect=1.0, palette=sns.color_palette(['#77AC30', '#A2142F']))\n",
        "plt.show()"
      ],
      "execution_count": null,
      "outputs": [
        {
          "output_type": "display_data",
          "data": {
            "image/png": "[encoded data removed]",
            "text/plain": [
              "<Figure size 1080x180 with 6 Axes>"
            ]
          },
          "metadata": {
            "needs_background": "light"
          }
        }
      ]
    },
    {
      "cell_type": "markdown",
      "metadata": {
        "id": "quzZH0gFUxmY"
      },
      "source": [
        "<a name=\"9\"></a>\n",
        "\n",
        "Inflight entertainment is correlated with satisfaction"
      ]
    },
    {
      "cell_type": "code",
      "metadata": {
        "colab": {
          "base_uri": "https://localhost:8080/",
          "height": 189
        },
        "id": "GV6gQM-bUy5C",
        "outputId": "af5422f4-5bc3-48ae-826d-5ea9519dd0a3"
      },
      "source": [
        "sns.catplot(x=\"satisfaction\", col=\"Inflight entertainment\", col_wrap=6, data=data, kind=\"count\", height=2.5, aspect=1.0, palette=sns.color_palette(['#77AC30', '#A2142F']))  \n",
        "plt.show()"
      ],
      "execution_count": null,
      "outputs": [
        {
          "output_type": "display_data",
          "data": {
            "image/png": "[encoded data removed]",
            "text/plain": [
              "<Figure size 1080x180 with 6 Axes>"
            ]
          },
          "metadata": {
            "needs_background": "light"
          }
        }
      ]
    },
    {
      "cell_type": "markdown",
      "metadata": {
        "id": "D5LQCoFpg8C7"
      },
      "source": [
        "Inference:<br>\n",
        "As we can see when the quality of inflight entertainment is high the number of passengers satisfied is significantly high and the correlation is also high (0.5) compared to other entities"
      ]
    },
    {
      "cell_type": "markdown",
      "metadata": {
        "id": "Ju1Fw41AmKRb"
      },
      "source": [
        "<a name=\"10\"></a>"
      ]
    },
    {
      "cell_type": "code",
      "metadata": {
        "colab": {
          "base_uri": "https://localhost:8080/",
          "height": 279
        },
        "id": "mLT-Ty_xmL0m",
        "outputId": "bbdbfee0-af2f-4fd0-9ade-fcfcec5bc31f"
      },
      "source": [
        "sns.lineplot(x=\"Seat comfort\", y=\"Inflight entertainment\", data=data)\n",
        "plt.show()"
      ],
      "execution_count": null,
      "outputs": [
        {
          "output_type": "display_data",
          "data": {
            "image/png": "[encoded data removed]",
            "text/plain": [
              "<Figure size 432x288 with 1 Axes>"
            ]
          },
          "metadata": {
            "needs_background": "light"
          }
        }
      ]
    },
    {
      "cell_type": "markdown",
      "metadata": {
        "id": "4O3S_Kahot9Z"
      },
      "source": [
        "# Heatmap"
      ]
    },
    {
      "cell_type": "code",
      "metadata": {
        "colab": {
          "base_uri": "https://localhost:8080/",
          "height": 1000
        },
        "id": "AvTJFhGrYd8-",
        "outputId": "e7d64126-1551-4653-d3ea-2845e1b3394a"
      },
      "source": [
        "plt.figure(figsize = (20,20))\n",
        "sns.heatmap(encoded.corr(),annot=True)\n",
        "plt.show()"
      ],
      "execution_count": null,
      "outputs": [
        {
          "output_type": "display_data",
          "data": {
            "image/png": "[encoded data removed]",
            "text/plain": [
              "<Figure size 1440x1440 with 2 Axes>"
            ]
          },
          "metadata": {
            "needs_background": "light"
          }
        }
      ]
    },
    {
      "cell_type": "markdown",
      "metadata": {
        "id": "WTfAjlyz5hDo"
      },
      "source": [
        "# Normalizing"
      ]
    },
    {
      "cell_type": "code",
      "metadata": {
        "colab": {
          "base_uri": "https://localhost:8080/",
          "height": 495
        },
        "id": "nZc0q0sq5j5M",
        "outputId": "00079fe0-b24e-4653-d0b4-1306c7719a29"
      },
      "source": [
        "from sklearn import preprocessing\n",
        "r_scaler = preprocessing.MinMaxScaler()\n",
        "r_scaler.fit(encoded)\n",
        "#modified_data = pd.DataFrame(r_scaler.transform(train), index=train['id'], columns=train.columns)\n",
        "modified_data = pd.DataFrame(r_scaler.transform(encoded), columns=encoded.columns)\n",
        "modified_data"
      ],
      "execution_count": null,
      "outputs": [
        {
          "output_type": "execute_result",
          "data": {
            "text/html": [
              "<div>\n",
              "<style scoped>\n",
              "    .dataframe tbody tr th:only-of-type {\n",
              "        vertical-align: middle;\n",
              "    }\n",
              "\n",
              "    .dataframe tbody tr th {\n",
              "        vertical-align: top;\n",
              "    }\n",
              "\n",
              "    .dataframe thead th {\n",
              "        text-align: right;\n",
              "    }\n",
              "</style>\n",
              "<table border=\"1\" class=\"dataframe\">\n",
              "  <thead>\n",
              "    <tr style=\"text-align: right;\">\n",
              "      <th></th>\n",
              "      <th>Gender</th>\n",
              "      <th>Customer Type</th>\n",
              "      <th>Age</th>\n",
              "      <th>Type of Travel</th>\n",
              "      <th>Class</th>\n",
              "      <th>Flight Distance</th>\n",
              "      <th>Inflight wifi service</th>\n",
              "      <th>Departure/Arrival time convenient</th>\n",
              "      <th>Ease of Online booking</th>\n",
              "      <th>Gate location</th>\n",
              "      <th>Food and drink</th>\n",
              "      <th>Online boarding</th>\n",
              "      <th>Seat comfort</th>\n",
              "      <th>Inflight entertainment</th>\n",
              "      <th>On-board service</th>\n",
              "      <th>Leg room service</th>\n",
              "      <th>Baggage handling</th>\n",
              "      <th>Checkin service</th>\n",
              "      <th>Inflight service</th>\n",
              "      <th>Cleanliness</th>\n",
              "      <th>Departure Delay in Minutes</th>\n",
              "      <th>Arrival Delay in Minutes</th>\n",
              "      <th>satisfaction</th>\n",
              "    </tr>\n",
              "  </thead>\n",
              "  <tbody>\n",
              "    <tr>\n",
              "      <th>0</th>\n",
              "      <td>0.0</td>\n",
              "      <td>0.0</td>\n",
              "      <td>0.576923</td>\n",
              "      <td>0.0</td>\n",
              "      <td>0.5</td>\n",
              "      <td>0.026050</td>\n",
              "      <td>1.0</td>\n",
              "      <td>0.8</td>\n",
              "      <td>0.6</td>\n",
              "      <td>0.8</td>\n",
              "      <td>0.6</td>\n",
              "      <td>0.8</td>\n",
              "      <td>0.6</td>\n",
              "      <td>1.0</td>\n",
              "      <td>1.0</td>\n",
              "      <td>1.0</td>\n",
              "      <td>1.00</td>\n",
              "      <td>0.4</td>\n",
              "      <td>1.0</td>\n",
              "      <td>1.0</td>\n",
              "      <td>0.031407</td>\n",
              "      <td>0.027778</td>\n",
              "      <td>1.0</td>\n",
              "    </tr>\n",
              "    <tr>\n",
              "      <th>1</th>\n",
              "      <td>0.0</td>\n",
              "      <td>0.0</td>\n",
              "      <td>0.371795</td>\n",
              "      <td>0.0</td>\n",
              "      <td>0.0</td>\n",
              "      <td>0.571890</td>\n",
              "      <td>0.2</td>\n",
              "      <td>0.2</td>\n",
              "      <td>0.6</td>\n",
              "      <td>0.2</td>\n",
              "      <td>1.0</td>\n",
              "      <td>0.8</td>\n",
              "      <td>1.0</td>\n",
              "      <td>0.8</td>\n",
              "      <td>0.8</td>\n",
              "      <td>0.8</td>\n",
              "      <td>0.75</td>\n",
              "      <td>0.6</td>\n",
              "      <td>0.8</td>\n",
              "      <td>1.0</td>\n",
              "      <td>0.000000</td>\n",
              "      <td>0.000000</td>\n",
              "      <td>1.0</td>\n",
              "    </tr>\n",
              "    <tr>\n",
              "      <th>2</th>\n",
              "      <td>1.0</td>\n",
              "      <td>1.0</td>\n",
              "      <td>0.166667</td>\n",
              "      <td>0.0</td>\n",
              "      <td>0.5</td>\n",
              "      <td>0.032512</td>\n",
              "      <td>0.4</td>\n",
              "      <td>0.0</td>\n",
              "      <td>0.4</td>\n",
              "      <td>0.8</td>\n",
              "      <td>0.4</td>\n",
              "      <td>0.4</td>\n",
              "      <td>0.4</td>\n",
              "      <td>0.4</td>\n",
              "      <td>0.8</td>\n",
              "      <td>0.2</td>\n",
              "      <td>0.50</td>\n",
              "      <td>0.4</td>\n",
              "      <td>0.4</td>\n",
              "      <td>0.4</td>\n",
              "      <td>0.000000</td>\n",
              "      <td>0.000000</td>\n",
              "      <td>0.0</td>\n",
              "    </tr>\n",
              "    <tr>\n",
              "      <th>3</th>\n",
              "      <td>1.0</td>\n",
              "      <td>0.0</td>\n",
              "      <td>0.474359</td>\n",
              "      <td>0.0</td>\n",
              "      <td>0.0</td>\n",
              "      <td>0.675687</td>\n",
              "      <td>0.0</td>\n",
              "      <td>0.0</td>\n",
              "      <td>0.0</td>\n",
              "      <td>0.4</td>\n",
              "      <td>0.6</td>\n",
              "      <td>0.8</td>\n",
              "      <td>0.8</td>\n",
              "      <td>0.2</td>\n",
              "      <td>0.2</td>\n",
              "      <td>0.2</td>\n",
              "      <td>0.00</td>\n",
              "      <td>0.6</td>\n",
              "      <td>0.2</td>\n",
              "      <td>0.8</td>\n",
              "      <td>0.000000</td>\n",
              "      <td>0.003788</td>\n",
              "      <td>1.0</td>\n",
              "    </tr>\n",
              "    <tr>\n",
              "      <th>4</th>\n",
              "      <td>0.0</td>\n",
              "      <td>0.0</td>\n",
              "      <td>0.538462</td>\n",
              "      <td>0.0</td>\n",
              "      <td>0.5</td>\n",
              "      <td>0.232431</td>\n",
              "      <td>0.4</td>\n",
              "      <td>0.6</td>\n",
              "      <td>0.8</td>\n",
              "      <td>0.6</td>\n",
              "      <td>0.8</td>\n",
              "      <td>0.2</td>\n",
              "      <td>0.4</td>\n",
              "      <td>0.4</td>\n",
              "      <td>0.4</td>\n",
              "      <td>0.4</td>\n",
              "      <td>0.25</td>\n",
              "      <td>0.8</td>\n",
              "      <td>0.4</td>\n",
              "      <td>0.8</td>\n",
              "      <td>0.000000</td>\n",
              "      <td>0.012626</td>\n",
              "      <td>1.0</td>\n",
              "    </tr>\n",
              "    <tr>\n",
              "      <th>...</th>\n",
              "      <td>...</td>\n",
              "      <td>...</td>\n",
              "      <td>...</td>\n",
              "      <td>...</td>\n",
              "      <td>...</td>\n",
              "      <td>...</td>\n",
              "      <td>...</td>\n",
              "      <td>...</td>\n",
              "      <td>...</td>\n",
              "      <td>...</td>\n",
              "      <td>...</td>\n",
              "      <td>...</td>\n",
              "      <td>...</td>\n",
              "      <td>...</td>\n",
              "      <td>...</td>\n",
              "      <td>...</td>\n",
              "      <td>...</td>\n",
              "      <td>...</td>\n",
              "      <td>...</td>\n",
              "      <td>...</td>\n",
              "      <td>...</td>\n",
              "      <td>...</td>\n",
              "      <td>...</td>\n",
              "    </tr>\n",
              "    <tr>\n",
              "      <th>129875</th>\n",
              "      <td>0.0</td>\n",
              "      <td>1.0</td>\n",
              "      <td>0.205128</td>\n",
              "      <td>0.0</td>\n",
              "      <td>0.5</td>\n",
              "      <td>0.032512</td>\n",
              "      <td>0.4</td>\n",
              "      <td>0.2</td>\n",
              "      <td>0.4</td>\n",
              "      <td>0.6</td>\n",
              "      <td>0.4</td>\n",
              "      <td>0.4</td>\n",
              "      <td>0.4</td>\n",
              "      <td>0.4</td>\n",
              "      <td>0.6</td>\n",
              "      <td>0.2</td>\n",
              "      <td>0.75</td>\n",
              "      <td>0.4</td>\n",
              "      <td>0.6</td>\n",
              "      <td>0.4</td>\n",
              "      <td>0.001884</td>\n",
              "      <td>0.000000</td>\n",
              "      <td>0.0</td>\n",
              "    </tr>\n",
              "    <tr>\n",
              "      <th>129876</th>\n",
              "      <td>1.0</td>\n",
              "      <td>0.0</td>\n",
              "      <td>0.538462</td>\n",
              "      <td>0.0</td>\n",
              "      <td>0.0</td>\n",
              "      <td>0.467690</td>\n",
              "      <td>0.8</td>\n",
              "      <td>0.8</td>\n",
              "      <td>0.8</td>\n",
              "      <td>0.8</td>\n",
              "      <td>0.4</td>\n",
              "      <td>0.8</td>\n",
              "      <td>1.0</td>\n",
              "      <td>1.0</td>\n",
              "      <td>1.0</td>\n",
              "      <td>1.0</td>\n",
              "      <td>1.00</td>\n",
              "      <td>1.0</td>\n",
              "      <td>1.0</td>\n",
              "      <td>0.8</td>\n",
              "      <td>0.000000</td>\n",
              "      <td>0.000000</td>\n",
              "      <td>1.0</td>\n",
              "    </tr>\n",
              "    <tr>\n",
              "      <th>129877</th>\n",
              "      <td>1.0</td>\n",
              "      <td>1.0</td>\n",
              "      <td>0.294872</td>\n",
              "      <td>0.0</td>\n",
              "      <td>0.0</td>\n",
              "      <td>0.396607</td>\n",
              "      <td>0.2</td>\n",
              "      <td>0.2</td>\n",
              "      <td>0.2</td>\n",
              "      <td>0.6</td>\n",
              "      <td>0.8</td>\n",
              "      <td>0.2</td>\n",
              "      <td>1.0</td>\n",
              "      <td>0.8</td>\n",
              "      <td>0.6</td>\n",
              "      <td>0.4</td>\n",
              "      <td>0.75</td>\n",
              "      <td>1.0</td>\n",
              "      <td>1.0</td>\n",
              "      <td>0.8</td>\n",
              "      <td>0.004397</td>\n",
              "      <td>0.008838</td>\n",
              "      <td>0.0</td>\n",
              "    </tr>\n",
              "    <tr>\n",
              "      <th>129878</th>\n",
              "      <td>0.0</td>\n",
              "      <td>1.0</td>\n",
              "      <td>0.192308</td>\n",
              "      <td>0.0</td>\n",
              "      <td>0.5</td>\n",
              "      <td>0.195679</td>\n",
              "      <td>0.2</td>\n",
              "      <td>0.2</td>\n",
              "      <td>0.2</td>\n",
              "      <td>1.0</td>\n",
              "      <td>0.2</td>\n",
              "      <td>0.2</td>\n",
              "      <td>0.2</td>\n",
              "      <td>0.2</td>\n",
              "      <td>0.8</td>\n",
              "      <td>1.0</td>\n",
              "      <td>0.00</td>\n",
              "      <td>1.0</td>\n",
              "      <td>0.8</td>\n",
              "      <td>0.2</td>\n",
              "      <td>0.000000</td>\n",
              "      <td>0.000000</td>\n",
              "      <td>0.0</td>\n",
              "    </tr>\n",
              "    <tr>\n",
              "      <th>129879</th>\n",
              "      <td>1.0</td>\n",
              "      <td>0.0</td>\n",
              "      <td>0.256410</td>\n",
              "      <td>0.0</td>\n",
              "      <td>0.0</td>\n",
              "      <td>0.341680</td>\n",
              "      <td>0.2</td>\n",
              "      <td>0.6</td>\n",
              "      <td>0.6</td>\n",
              "      <td>0.6</td>\n",
              "      <td>0.2</td>\n",
              "      <td>0.2</td>\n",
              "      <td>0.2</td>\n",
              "      <td>0.2</td>\n",
              "      <td>0.2</td>\n",
              "      <td>0.2</td>\n",
              "      <td>0.75</td>\n",
              "      <td>0.8</td>\n",
              "      <td>0.6</td>\n",
              "      <td>0.2</td>\n",
              "      <td>0.000000</td>\n",
              "      <td>0.000000</td>\n",
              "      <td>0.0</td>\n",
              "    </tr>\n",
              "  </tbody>\n",
              "</table>\n",
              "<p>129880 rows × 23 columns</p>\n",
              "</div>"
            ],
            "text/plain": [
              "        Gender  Customer Type  ...  Arrival Delay in Minutes  satisfaction\n",
              "0          0.0            0.0  ...                  0.027778           1.0\n",
              "1          0.0            0.0  ...                  0.000000           1.0\n",
              "2          1.0            1.0  ...                  0.000000           0.0\n",
              "3          1.0            0.0  ...                  0.003788           1.0\n",
              "4          0.0            0.0  ...                  0.012626           1.0\n",
              "...        ...            ...  ...                       ...           ...\n",
              "129875     0.0            1.0  ...                  0.000000           0.0\n",
              "129876     1.0            0.0  ...                  0.000000           1.0\n",
              "129877     1.0            1.0  ...                  0.008838           0.0\n",
              "129878     0.0            1.0  ...                  0.000000           0.0\n",
              "129879     1.0            0.0  ...                  0.000000           0.0\n",
              "\n",
              "[129880 rows x 23 columns]"
            ]
          },
          "metadata": {},
          "execution_count": 152
        }
      ]
    },
    {
      "cell_type": "markdown",
      "metadata": {
        "id": "09NiuPPF53bs"
      },
      "source": [
        "# Feature Extraction"
      ]
    },
    {
      "cell_type": "code",
      "metadata": {
        "id": "GfDmMQ1E57YF"
      },
      "source": [
        "#from sklearn.feature_selection import SelectKBest, chi2\n",
        "X = modified_data.loc[:,modified_data.columns!='satisfaction']\n",
        "y = modified_data[['satisfaction']]\n",
        "#selector = SelectKBest(chi2, k=11)\n",
        "#selector.fit(X, y)\n",
        "#X_new = selector.transform(X)\n",
        "#print(X.columns[selector.get_support(indices=True)])"
      ],
      "execution_count": null,
      "outputs": []
    },
    {
      "cell_type": "markdown",
      "source": [
        "Index(['Customer Type', 'Type of Travel', 'Class', 'Flight Distance',\n",
        "       'Inflight wifi service', 'Online boarding', 'Seat comfort',\n",
        "       'Inflight entertainment', 'On-board service', 'Leg room service',\n",
        "       'Cleanliness'],\n",
        "      dtype='object')"
      ],
      "metadata": {
        "id": "xbf5r9g4gyCu"
      }
    },
    {
      "cell_type": "markdown",
      "metadata": {
        "id": "75O_r3OW9fZO"
      },
      "source": [
        "These are the features that contribute to the "
      ]
    },
    {
      "cell_type": "code",
      "metadata": {
        "id": "hrmu9BX15_e3"
      },
      "source": [
        "from sklearn.decomposition import PCA\n",
        "pca = PCA(n_components = 22)\n",
        "pca_fit = pca.fit(X)"
      ],
      "execution_count": null,
      "outputs": []
    },
    {
      "cell_type": "code",
      "metadata": {
        "id": "Rw8631Cm6BKu",
        "colab": {
          "base_uri": "https://localhost:8080/",
          "height": 295
        },
        "outputId": "95aec261-a3d5-422e-fb7c-c5da91648de9"
      },
      "source": [
        "PC_values = np.arange(pca.n_components_) + 1\n",
        "plt.plot(PC_values, pca.explained_variance_ratio_, 'o-', linewidth=2, color='blue')\n",
        "plt.title('Scree Plot')\n",
        "plt.xlabel('Principal Component')\n",
        "plt.ylabel('Variance Explained')\n",
        "plt.show()"
      ],
      "execution_count": null,
      "outputs": [
        {
          "output_type": "display_data",
          "data": {
            "image/png": "[encoded data removed]",
            "text/plain": [
              "<Figure size 432x288 with 1 Axes>"
            ]
          },
          "metadata": {
            "needs_background": "light"
          }
        }
      ]
    },
    {
      "cell_type": "code",
      "metadata": {
        "id": "YxoLbDrD6D3q",
        "colab": {
          "base_uri": "https://localhost:8080/"
        },
        "outputId": "806f27e8-4a5c-459f-a10d-0c6ed99afa70"
      },
      "source": [
        "print(pca.explained_variance_ratio_*100)"
      ],
      "execution_count": null,
      "outputs": [
        {
          "output_type": "stream",
          "name": "stdout",
          "text": [
            "[1.79690606e+01 1.43279997e+01 1.37388863e+01 9.95233497e+00\n",
            " 8.79729310e+00 7.57413413e+00 3.90632540e+00 3.76333819e+00\n",
            " 2.70930817e+00 2.64842998e+00 2.10782708e+00 2.02372044e+00\n",
            " 1.88975808e+00 1.62110991e+00 1.48802488e+00 1.29728880e+00\n",
            " 1.24712817e+00 1.13735369e+00 1.03604832e+00 7.00141952e-01\n",
            " 6.33724750e-02 1.11564023e-03]\n"
          ]
        }
      ]
    },
    {
      "cell_type": "markdown",
      "source": [
        "Helper Function"
      ],
      "metadata": {
        "id": "SAJS8evWXEAm"
      }
    },
    {
      "cell_type": "code",
      "metadata": {
        "id": "Xi8_oFa16JGb"
      },
      "source": [
        "from sklearn.linear_model import LogisticRegression\n",
        "from sklearn.model_selection import train_test_split\n",
        "def LogisticRegressionTest(X,y):\n",
        "  xtrain, xtest, ytrain, ytest = train_test_split(\n",
        "          X, y, test_size = 0.33, random_state = 0)\n",
        "  classifier = LogisticRegression(random_state = 0,max_iter=1000,solver=\"lbfgs\")\n",
        "  classifier.fit(xtrain, ytrain.values.ravel())\n",
        "  print(classifier.score(xtest,ytest)*100)"
      ],
      "execution_count": null,
      "outputs": []
    },
    {
      "cell_type": "code",
      "metadata": {
        "id": "BXvXnGKd6PIR",
        "colab": {
          "base_uri": "https://localhost:8080/"
        },
        "outputId": "00d3d973-257c-40c3-b128-3761dfb34966"
      },
      "source": [
        "pca = PCA(n_components=11)\n",
        "selector = pca.fit(X)\n",
        "selector.fit(X, y)\n",
        "X_new = selector.transform(X)\n",
        "print(\"before feature selection\")\n",
        "LogisticRegressionTest(X,y)\n",
        "print(\"after feature selection\")\n",
        "LogisticRegressionTest(X_new,y)"
      ],
      "execution_count": null,
      "outputs": [
        {
          "output_type": "stream",
          "name": "stdout",
          "text": [
            "before feature selection\n",
            "87.55045379249201\n",
            "after feature selection\n",
            "87.0115022981265\n"
          ]
        }
      ]
    },
    {
      "cell_type": "markdown",
      "metadata": {
        "id": "pxSWpPPT6Fcd"
      },
      "source": [
        "# Imbalance"
      ]
    },
    {
      "cell_type": "markdown",
      "source": [
        "the data is pretty much balanced to some extent<br>"
      ],
      "metadata": {
        "id": "gRZvlvw-W0x1"
      }
    },
    {
      "cell_type": "code",
      "metadata": {
        "id": "-cwj7ZeC6Nsm"
      },
      "source": [
        "#from imblearn.over_sampling import SMOTENC\n",
        "#from collections import Counter\n",
        "#oversample = SMOTENC(categorical_features=[0,1,2,3,4,6,7,8,9,10,11,12,13,14,15,16,17,18,19,20])\n",
        "#X, y = oversample.fit_resample(X,y)\n",
        "#counter = Counter(y.satisfaction)\n",
        "#print(counter)"
      ],
      "execution_count": null,
      "outputs": []
    },
    {
      "cell_type": "markdown",
      "metadata": {
        "id": "Ze78eY2n6Ued"
      },
      "source": [
        "**X_new** is the new set of 11 colums extracted from 23 columns.<br>\n",
        "\n",
        "X -> X_new &nbsp;&nbsp;&nbsp;&nbsp;&nbsp;&nbsp;&nbsp;&nbsp; *// 11 features<br>*\n",
        "y -> y"
      ]
    },
    {
      "cell_type": "markdown",
      "metadata": {
        "id": "Zp8p-9bIGPp2"
      },
      "source": [
        "# Modeling"
      ]
    },
    {
      "cell_type": "code",
      "metadata": {
        "id": "1xrsKEBiGPCr",
        "colab": {
          "base_uri": "https://localhost:8080/"
        },
        "outputId": "fc702f5a-ffa9-48f6-ca34-b393f990486f"
      },
      "source": [
        "X_new"
      ],
      "execution_count": null,
      "outputs": [
        {
          "output_type": "execute_result",
          "data": {
            "text/plain": [
              "array([[-0.5529133 ,  0.02769169, -0.5971724 , ...,  0.13117867,\n",
              "        -0.20147467,  0.12667605],\n",
              "       [-0.64820029,  0.34265524, -0.3484563 , ..., -0.13093645,\n",
              "         0.14563582, -0.04380753],\n",
              "       [ 0.3881178 ,  0.55630106,  1.147884  , ..., -0.2761591 ,\n",
              "        -0.19128714, -0.10400045],\n",
              "       ...,\n",
              "       [-0.35486298,  0.19658576,  0.86444958, ..., -0.12295565,\n",
              "         0.00531118, -0.22538467],\n",
              "       [ 0.50261303,  1.2331219 ,  0.47711613, ...,  0.63858363,\n",
              "         0.26655644, -0.06468854],\n",
              "       [ 0.51266436,  0.16735872,  0.87826815, ..., -0.1447794 ,\n",
              "        -0.23482741, -0.44389572]])"
            ]
          },
          "metadata": {},
          "execution_count": 160
        }
      ]
    },
    {
      "cell_type": "code",
      "metadata": {
        "id": "KJedDauYGjIb",
        "colab": {
          "base_uri": "https://localhost:8080/",
          "height": 424
        },
        "outputId": "8b637b3f-7d42-48e6-f6ec-bf1baef1e44e"
      },
      "source": [
        "y"
      ],
      "execution_count": null,
      "outputs": [
        {
          "output_type": "execute_result",
          "data": {
            "text/html": [
              "<div>\n",
              "<style scoped>\n",
              "    .dataframe tbody tr th:only-of-type {\n",
              "        vertical-align: middle;\n",
              "    }\n",
              "\n",
              "    .dataframe tbody tr th {\n",
              "        vertical-align: top;\n",
              "    }\n",
              "\n",
              "    .dataframe thead th {\n",
              "        text-align: right;\n",
              "    }\n",
              "</style>\n",
              "<table border=\"1\" class=\"dataframe\">\n",
              "  <thead>\n",
              "    <tr style=\"text-align: right;\">\n",
              "      <th></th>\n",
              "      <th>satisfaction</th>\n",
              "    </tr>\n",
              "  </thead>\n",
              "  <tbody>\n",
              "    <tr>\n",
              "      <th>0</th>\n",
              "      <td>1.0</td>\n",
              "    </tr>\n",
              "    <tr>\n",
              "      <th>1</th>\n",
              "      <td>1.0</td>\n",
              "    </tr>\n",
              "    <tr>\n",
              "      <th>2</th>\n",
              "      <td>0.0</td>\n",
              "    </tr>\n",
              "    <tr>\n",
              "      <th>3</th>\n",
              "      <td>1.0</td>\n",
              "    </tr>\n",
              "    <tr>\n",
              "      <th>4</th>\n",
              "      <td>1.0</td>\n",
              "    </tr>\n",
              "    <tr>\n",
              "      <th>...</th>\n",
              "      <td>...</td>\n",
              "    </tr>\n",
              "    <tr>\n",
              "      <th>129875</th>\n",
              "      <td>0.0</td>\n",
              "    </tr>\n",
              "    <tr>\n",
              "      <th>129876</th>\n",
              "      <td>1.0</td>\n",
              "    </tr>\n",
              "    <tr>\n",
              "      <th>129877</th>\n",
              "      <td>0.0</td>\n",
              "    </tr>\n",
              "    <tr>\n",
              "      <th>129878</th>\n",
              "      <td>0.0</td>\n",
              "    </tr>\n",
              "    <tr>\n",
              "      <th>129879</th>\n",
              "      <td>0.0</td>\n",
              "    </tr>\n",
              "  </tbody>\n",
              "</table>\n",
              "<p>129880 rows × 1 columns</p>\n",
              "</div>"
            ],
            "text/plain": [
              "        satisfaction\n",
              "0                1.0\n",
              "1                1.0\n",
              "2                0.0\n",
              "3                1.0\n",
              "4                1.0\n",
              "...              ...\n",
              "129875           0.0\n",
              "129876           1.0\n",
              "129877           0.0\n",
              "129878           0.0\n",
              "129879           0.0\n",
              "\n",
              "[129880 rows x 1 columns]"
            ]
          },
          "metadata": {},
          "execution_count": 161
        }
      ]
    },
    {
      "cell_type": "code",
      "metadata": {
        "id": "RqsKAjShGo3c"
      },
      "source": [
        "from sklearn.model_selection import train_test_split\n",
        "X_train, X_test, y_train, y_test = train_test_split(X_new, y, test_size=0.2, random_state=4)"
      ],
      "execution_count": null,
      "outputs": []
    },
    {
      "cell_type": "code",
      "metadata": {
        "id": "NJM8A60eGsPv",
        "colab": {
          "base_uri": "https://localhost:8080/"
        },
        "outputId": "9d06fb9b-fb67-4ac3-8683-29557e2434d5"
      },
      "source": [
        "print(X_train)"
      ],
      "execution_count": null,
      "outputs": [
        {
          "output_type": "stream",
          "name": "stdout",
          "text": [
            "[[-0.04615078  0.22501691  0.92087504 ... -0.49348791 -0.16692532\n",
            "   0.29058274]\n",
            " [ 0.5625234   0.09943719  0.76332168 ...  0.8512146  -0.13551949\n",
            "   0.1821424 ]\n",
            " [ 0.14917142  1.02208749  0.26002741 ... -0.04349404 -0.17944487\n",
            "  -0.11340975]\n",
            " ...\n",
            " [ 0.90328663  0.21666853 -0.43528821 ...  0.06681809  0.36459675\n",
            "   0.12589496]\n",
            " [ 0.844708   -0.55928584  0.18851369 ... -0.18761261 -0.11420853\n",
            "  -0.12516223]\n",
            " [ 0.36401814 -0.1603879  -0.80514865 ...  0.2749634   0.33106448\n",
            "  -0.16147189]]\n"
          ]
        }
      ]
    },
    {
      "cell_type": "code",
      "metadata": {
        "id": "6-0Ln1JhG0cY",
        "colab": {
          "base_uri": "https://localhost:8080/"
        },
        "outputId": "afb93e88-c564-40da-d93c-9db30cc729b6"
      },
      "source": [
        "print(X_train.shape, X_test.shape)"
      ],
      "execution_count": null,
      "outputs": [
        {
          "output_type": "stream",
          "name": "stdout",
          "text": [
            "(103904, 11) (25976, 11)\n"
          ]
        }
      ]
    },
    {
      "cell_type": "code",
      "metadata": {
        "id": "nNodttHAG6oo"
      },
      "source": [
        "from sklearn.linear_model import LogisticRegression\n",
        "from sklearn.ensemble import RandomForestClassifier\n",
        "from sklearn.model_selection import GridSearchCV\n",
        "from sklearn.metrics import classification_report"
      ],
      "execution_count": null,
      "outputs": []
    },
    {
      "cell_type": "code",
      "metadata": {
        "id": "TasfOI5XG_SU"
      },
      "source": [
        "grid_params = {    \n",
        "    'Logistics Regression' : {\n",
        "        'Classifier' : LogisticRegression(solver = 'lbfgs', multi_class = 'auto'),\n",
        "        'Parameter' : {\n",
        "            'C' : [0.1, 1, 10, 100],\n",
        "            'solver' : ['lbfgs', 'liblinear']\n",
        "        }\n",
        "    },\n",
        "    'Random Forest' :{\n",
        "        'Classifier' : RandomForestClassifier(),\n",
        "        'Parameter' : {\n",
        "            'n_estimators' : [1, 5, 10, 100]\n",
        "        }\n",
        "    }\n",
        "}"
      ],
      "execution_count": null,
      "outputs": []
    },
    {
      "cell_type": "code",
      "metadata": {
        "id": "Fwkjh1L9HB3n",
        "colab": {
          "base_uri": "https://localhost:8080/"
        },
        "outputId": "0dea7fd1-4d3b-49c3-b4bd-480294f4931e"
      },
      "source": [
        "modelInfo = []\n",
        "\n",
        "for classifierName, model in grid_params.items():\n",
        "    clf = GridSearchCV(model['Classifier'], model['Parameter'], cv=5, n_jobs=-1)\n",
        "    print( \"Fitting \", model['Classifier'])\n",
        "    clf.fit(X_train, y_train.values.ravel())\n",
        "    print(\"Classification report: \\n\", classification_report(y_test,clf.best_estimator_.predict(X_test)))\n",
        "    modelInfo.append({\n",
        "        'Classifier' : classifierName,\n",
        "        'best_score' : clf.best_score_,\n",
        "        'best_params' : clf.best_params_\n",
        "    })"
      ],
      "execution_count": null,
      "outputs": [
        {
          "output_type": "stream",
          "name": "stdout",
          "text": [
            "Fitting  LogisticRegression()\n",
            "Classification report: \n",
            "               precision    recall  f1-score   support\n",
            "\n",
            "         0.0       0.87      0.90      0.89     14611\n",
            "         1.0       0.87      0.83      0.85     11365\n",
            "\n",
            "    accuracy                           0.87     25976\n",
            "   macro avg       0.87      0.87      0.87     25976\n",
            "weighted avg       0.87      0.87      0.87     25976\n",
            "\n",
            "Fitting  RandomForestClassifier()\n",
            "Classification report: \n",
            "               precision    recall  f1-score   support\n",
            "\n",
            "         0.0       0.93      0.95      0.94     14611\n",
            "         1.0       0.94      0.90      0.92     11365\n",
            "\n",
            "    accuracy                           0.93     25976\n",
            "   macro avg       0.93      0.93      0.93     25976\n",
            "weighted avg       0.93      0.93      0.93     25976\n",
            "\n"
          ]
        }
      ]
    },
    {
      "cell_type": "code",
      "metadata": {
        "id": "2U97FcNdHIEi",
        "colab": {
          "base_uri": "https://localhost:8080/",
          "height": 112
        },
        "outputId": "57b41431-4f6a-4570-bdea-65f4284fa155"
      },
      "source": [
        "df1 = pd.DataFrame(modelInfo, columns=['Classifier', 'best_score', 'best_params'])\n",
        "df1"
      ],
      "execution_count": null,
      "outputs": [
        {
          "output_type": "execute_result",
          "data": {
            "text/html": [
              "<div>\n",
              "<style scoped>\n",
              "    .dataframe tbody tr th:only-of-type {\n",
              "        vertical-align: middle;\n",
              "    }\n",
              "\n",
              "    .dataframe tbody tr th {\n",
              "        vertical-align: top;\n",
              "    }\n",
              "\n",
              "    .dataframe thead th {\n",
              "        text-align: right;\n",
              "    }\n",
              "</style>\n",
              "<table border=\"1\" class=\"dataframe\">\n",
              "  <thead>\n",
              "    <tr style=\"text-align: right;\">\n",
              "      <th></th>\n",
              "      <th>Classifier</th>\n",
              "      <th>best_score</th>\n",
              "      <th>best_params</th>\n",
              "    </tr>\n",
              "  </thead>\n",
              "  <tbody>\n",
              "    <tr>\n",
              "      <th>0</th>\n",
              "      <td>Logistics Regression</td>\n",
              "      <td>0.868956</td>\n",
              "      <td>{'C': 1, 'solver': 'lbfgs'}</td>\n",
              "    </tr>\n",
              "    <tr>\n",
              "      <th>1</th>\n",
              "      <td>Random Forest</td>\n",
              "      <td>0.928896</td>\n",
              "      <td>{'n_estimators': 100}</td>\n",
              "    </tr>\n",
              "  </tbody>\n",
              "</table>\n",
              "</div>"
            ],
            "text/plain": [
              "             Classifier  best_score                  best_params\n",
              "0  Logistics Regression    0.868956  {'C': 1, 'solver': 'lbfgs'}\n",
              "1         Random Forest    0.928896        {'n_estimators': 100}"
            ]
          },
          "metadata": {},
          "execution_count": 168
        }
      ]
    },
    {
      "cell_type": "markdown",
      "source": [
        "# Hypothesis Testing"
      ],
      "metadata": {
        "id": "-UMUksR8YHSE"
      }
    },
    {
      "cell_type": "code",
      "source": [
        "import scipy.stats as st"
      ],
      "metadata": {
        "id": "BgXpb-FtYJ9t"
      },
      "execution_count": null,
      "outputs": []
    },
    {
      "cell_type": "code",
      "metadata": {
        "id": "m2aL2CZFvtTS",
        "colab": {
          "base_uri": "https://localhost:8080/",
          "height": 669
        },
        "outputId": "40c3ddb4-ee87-4b3b-ec2b-4deaf9ae16fa"
      },
      "source": [
        "df = data.sample(n=1000)\n",
        "n = len(df)\n",
        "df"
      ],
      "execution_count": null,
      "outputs": [
        {
          "output_type": "execute_result",
          "data": {
            "text/html": [
              "<div>\n",
              "<style scoped>\n",
              "    .dataframe tbody tr th:only-of-type {\n",
              "        vertical-align: middle;\n",
              "    }\n",
              "\n",
              "    .dataframe tbody tr th {\n",
              "        vertical-align: top;\n",
              "    }\n",
              "\n",
              "    .dataframe thead th {\n",
              "        text-align: right;\n",
              "    }\n",
              "</style>\n",
              "<table border=\"1\" class=\"dataframe\">\n",
              "  <thead>\n",
              "    <tr style=\"text-align: right;\">\n",
              "      <th></th>\n",
              "      <th>Gender</th>\n",
              "      <th>Customer Type</th>\n",
              "      <th>Age</th>\n",
              "      <th>Type of Travel</th>\n",
              "      <th>Class</th>\n",
              "      <th>Flight Distance</th>\n",
              "      <th>Inflight wifi service</th>\n",
              "      <th>Departure/Arrival time convenient</th>\n",
              "      <th>Ease of Online booking</th>\n",
              "      <th>Gate location</th>\n",
              "      <th>Food and drink</th>\n",
              "      <th>Online boarding</th>\n",
              "      <th>Seat comfort</th>\n",
              "      <th>Inflight entertainment</th>\n",
              "      <th>On-board service</th>\n",
              "      <th>Leg room service</th>\n",
              "      <th>Baggage handling</th>\n",
              "      <th>Checkin service</th>\n",
              "      <th>Inflight service</th>\n",
              "      <th>Cleanliness</th>\n",
              "      <th>Departure Delay in Minutes</th>\n",
              "      <th>Arrival Delay in Minutes</th>\n",
              "      <th>satisfaction</th>\n",
              "    </tr>\n",
              "  </thead>\n",
              "  <tbody>\n",
              "    <tr>\n",
              "      <th>17379</th>\n",
              "      <td>Female</td>\n",
              "      <td>Loyal Customer</td>\n",
              "      <td>62</td>\n",
              "      <td>Personal Travel</td>\n",
              "      <td>Eco</td>\n",
              "      <td>541</td>\n",
              "      <td>2</td>\n",
              "      <td>5</td>\n",
              "      <td>2</td>\n",
              "      <td>4</td>\n",
              "      <td>4</td>\n",
              "      <td>5</td>\n",
              "      <td>4</td>\n",
              "      <td>4</td>\n",
              "      <td>4</td>\n",
              "      <td>2</td>\n",
              "      <td>4</td>\n",
              "      <td>5</td>\n",
              "      <td>4</td>\n",
              "      <td>3</td>\n",
              "      <td>49</td>\n",
              "      <td>63</td>\n",
              "      <td>dissatisfied</td>\n",
              "    </tr>\n",
              "    <tr>\n",
              "      <th>56387</th>\n",
              "      <td>Male</td>\n",
              "      <td>disloyal Customer</td>\n",
              "      <td>15</td>\n",
              "      <td>Business travel</td>\n",
              "      <td>Business</td>\n",
              "      <td>483</td>\n",
              "      <td>4</td>\n",
              "      <td>4</td>\n",
              "      <td>4</td>\n",
              "      <td>5</td>\n",
              "      <td>5</td>\n",
              "      <td>4</td>\n",
              "      <td>5</td>\n",
              "      <td>5</td>\n",
              "      <td>4</td>\n",
              "      <td>3</td>\n",
              "      <td>5</td>\n",
              "      <td>3</td>\n",
              "      <td>4</td>\n",
              "      <td>5</td>\n",
              "      <td>40</td>\n",
              "      <td>45</td>\n",
              "      <td>satisfied</td>\n",
              "    </tr>\n",
              "    <tr>\n",
              "      <th>38637</th>\n",
              "      <td>Male</td>\n",
              "      <td>Loyal Customer</td>\n",
              "      <td>41</td>\n",
              "      <td>Business travel</td>\n",
              "      <td>Business</td>\n",
              "      <td>1635</td>\n",
              "      <td>2</td>\n",
              "      <td>2</td>\n",
              "      <td>2</td>\n",
              "      <td>2</td>\n",
              "      <td>4</td>\n",
              "      <td>5</td>\n",
              "      <td>4</td>\n",
              "      <td>4</td>\n",
              "      <td>4</td>\n",
              "      <td>4</td>\n",
              "      <td>4</td>\n",
              "      <td>4</td>\n",
              "      <td>4</td>\n",
              "      <td>3</td>\n",
              "      <td>0</td>\n",
              "      <td>0</td>\n",
              "      <td>satisfied</td>\n",
              "    </tr>\n",
              "    <tr>\n",
              "      <th>54853</th>\n",
              "      <td>Female</td>\n",
              "      <td>Loyal Customer</td>\n",
              "      <td>18</td>\n",
              "      <td>Personal Travel</td>\n",
              "      <td>Eco</td>\n",
              "      <td>160</td>\n",
              "      <td>5</td>\n",
              "      <td>5</td>\n",
              "      <td>5</td>\n",
              "      <td>2</td>\n",
              "      <td>3</td>\n",
              "      <td>5</td>\n",
              "      <td>3</td>\n",
              "      <td>3</td>\n",
              "      <td>4</td>\n",
              "      <td>4</td>\n",
              "      <td>5</td>\n",
              "      <td>3</td>\n",
              "      <td>5</td>\n",
              "      <td>3</td>\n",
              "      <td>0</td>\n",
              "      <td>0</td>\n",
              "      <td>satisfied</td>\n",
              "    </tr>\n",
              "    <tr>\n",
              "      <th>37974</th>\n",
              "      <td>Male</td>\n",
              "      <td>disloyal Customer</td>\n",
              "      <td>23</td>\n",
              "      <td>Business travel</td>\n",
              "      <td>Eco</td>\n",
              "      <td>666</td>\n",
              "      <td>5</td>\n",
              "      <td>0</td>\n",
              "      <td>4</td>\n",
              "      <td>1</td>\n",
              "      <td>4</td>\n",
              "      <td>4</td>\n",
              "      <td>4</td>\n",
              "      <td>4</td>\n",
              "      <td>5</td>\n",
              "      <td>4</td>\n",
              "      <td>5</td>\n",
              "      <td>5</td>\n",
              "      <td>4</td>\n",
              "      <td>4</td>\n",
              "      <td>3</td>\n",
              "      <td>0</td>\n",
              "      <td>satisfied</td>\n",
              "    </tr>\n",
              "    <tr>\n",
              "      <th>...</th>\n",
              "      <td>...</td>\n",
              "      <td>...</td>\n",
              "      <td>...</td>\n",
              "      <td>...</td>\n",
              "      <td>...</td>\n",
              "      <td>...</td>\n",
              "      <td>...</td>\n",
              "      <td>...</td>\n",
              "      <td>...</td>\n",
              "      <td>...</td>\n",
              "      <td>...</td>\n",
              "      <td>...</td>\n",
              "      <td>...</td>\n",
              "      <td>...</td>\n",
              "      <td>...</td>\n",
              "      <td>...</td>\n",
              "      <td>...</td>\n",
              "      <td>...</td>\n",
              "      <td>...</td>\n",
              "      <td>...</td>\n",
              "      <td>...</td>\n",
              "      <td>...</td>\n",
              "      <td>...</td>\n",
              "    </tr>\n",
              "    <tr>\n",
              "      <th>45484</th>\n",
              "      <td>Female</td>\n",
              "      <td>Loyal Customer</td>\n",
              "      <td>39</td>\n",
              "      <td>Personal Travel</td>\n",
              "      <td>Business</td>\n",
              "      <td>163</td>\n",
              "      <td>3</td>\n",
              "      <td>5</td>\n",
              "      <td>3</td>\n",
              "      <td>2</td>\n",
              "      <td>3</td>\n",
              "      <td>4</td>\n",
              "      <td>5</td>\n",
              "      <td>5</td>\n",
              "      <td>5</td>\n",
              "      <td>3</td>\n",
              "      <td>5</td>\n",
              "      <td>3</td>\n",
              "      <td>5</td>\n",
              "      <td>3</td>\n",
              "      <td>2</td>\n",
              "      <td>7</td>\n",
              "      <td>dissatisfied</td>\n",
              "    </tr>\n",
              "    <tr>\n",
              "      <th>41993</th>\n",
              "      <td>Male</td>\n",
              "      <td>disloyal Customer</td>\n",
              "      <td>26</td>\n",
              "      <td>Business travel</td>\n",
              "      <td>Business</td>\n",
              "      <td>944</td>\n",
              "      <td>1</td>\n",
              "      <td>1</td>\n",
              "      <td>1</td>\n",
              "      <td>5</td>\n",
              "      <td>4</td>\n",
              "      <td>1</td>\n",
              "      <td>4</td>\n",
              "      <td>4</td>\n",
              "      <td>5</td>\n",
              "      <td>5</td>\n",
              "      <td>4</td>\n",
              "      <td>3</td>\n",
              "      <td>5</td>\n",
              "      <td>4</td>\n",
              "      <td>0</td>\n",
              "      <td>0</td>\n",
              "      <td>dissatisfied</td>\n",
              "    </tr>\n",
              "    <tr>\n",
              "      <th>88576</th>\n",
              "      <td>Female</td>\n",
              "      <td>Loyal Customer</td>\n",
              "      <td>39</td>\n",
              "      <td>Personal Travel</td>\n",
              "      <td>Eco</td>\n",
              "      <td>2521</td>\n",
              "      <td>3</td>\n",
              "      <td>3</td>\n",
              "      <td>2</td>\n",
              "      <td>5</td>\n",
              "      <td>2</td>\n",
              "      <td>3</td>\n",
              "      <td>3</td>\n",
              "      <td>4</td>\n",
              "      <td>3</td>\n",
              "      <td>4</td>\n",
              "      <td>5</td>\n",
              "      <td>3</td>\n",
              "      <td>1</td>\n",
              "      <td>3</td>\n",
              "      <td>6</td>\n",
              "      <td>52</td>\n",
              "      <td>dissatisfied</td>\n",
              "    </tr>\n",
              "    <tr>\n",
              "      <th>46444</th>\n",
              "      <td>Female</td>\n",
              "      <td>Loyal Customer</td>\n",
              "      <td>26</td>\n",
              "      <td>Business travel</td>\n",
              "      <td>Business</td>\n",
              "      <td>3604</td>\n",
              "      <td>1</td>\n",
              "      <td>4</td>\n",
              "      <td>4</td>\n",
              "      <td>4</td>\n",
              "      <td>1</td>\n",
              "      <td>1</td>\n",
              "      <td>1</td>\n",
              "      <td>1</td>\n",
              "      <td>3</td>\n",
              "      <td>4</td>\n",
              "      <td>3</td>\n",
              "      <td>2</td>\n",
              "      <td>3</td>\n",
              "      <td>1</td>\n",
              "      <td>0</td>\n",
              "      <td>0</td>\n",
              "      <td>dissatisfied</td>\n",
              "    </tr>\n",
              "    <tr>\n",
              "      <th>61431</th>\n",
              "      <td>Male</td>\n",
              "      <td>Loyal Customer</td>\n",
              "      <td>47</td>\n",
              "      <td>Personal Travel</td>\n",
              "      <td>Eco</td>\n",
              "      <td>624</td>\n",
              "      <td>1</td>\n",
              "      <td>5</td>\n",
              "      <td>2</td>\n",
              "      <td>3</td>\n",
              "      <td>4</td>\n",
              "      <td>2</td>\n",
              "      <td>4</td>\n",
              "      <td>4</td>\n",
              "      <td>5</td>\n",
              "      <td>3</td>\n",
              "      <td>4</td>\n",
              "      <td>5</td>\n",
              "      <td>4</td>\n",
              "      <td>4</td>\n",
              "      <td>0</td>\n",
              "      <td>0</td>\n",
              "      <td>dissatisfied</td>\n",
              "    </tr>\n",
              "  </tbody>\n",
              "</table>\n",
              "<p>1000 rows × 23 columns</p>\n",
              "</div>"
            ],
            "text/plain": [
              "       Gender      Customer Type  ...  Arrival Delay in Minutes  satisfaction\n",
              "17379  Female     Loyal Customer  ...                        63  dissatisfied\n",
              "56387    Male  disloyal Customer  ...                        45     satisfied\n",
              "38637    Male     Loyal Customer  ...                         0     satisfied\n",
              "54853  Female     Loyal Customer  ...                         0     satisfied\n",
              "37974    Male  disloyal Customer  ...                         0     satisfied\n",
              "...       ...                ...  ...                       ...           ...\n",
              "45484  Female     Loyal Customer  ...                         7  dissatisfied\n",
              "41993    Male  disloyal Customer  ...                         0  dissatisfied\n",
              "88576  Female     Loyal Customer  ...                        52  dissatisfied\n",
              "46444  Female     Loyal Customer  ...                         0  dissatisfied\n",
              "61431    Male     Loyal Customer  ...                         0  dissatisfied\n",
              "\n",
              "[1000 rows x 23 columns]"
            ]
          },
          "metadata": {},
          "execution_count": 170
        }
      ]
    },
    {
      "cell_type": "markdown",
      "metadata": {
        "id": "QJ_Iu_LVywWZ"
      },
      "source": [
        "## H1"
      ]
    },
    {
      "cell_type": "markdown",
      "source": [
        "Departure delay may lead to Arrival delay."
      ],
      "metadata": {
        "id": "YxRrr9y_Ysl5"
      }
    },
    {
      "cell_type": "code",
      "metadata": {
        "id": "EYCtTkt7vtQA",
        "colab": {
          "base_uri": "https://localhost:8080/"
        },
        "outputId": "5f6d0cd0-8963-4aae-e325-78729aa47251"
      },
      "source": [
        "# H0: Departure delay may lead to Arrival delay.\n",
        "# Ha: Arrival delay is not affected by departure delay.\n",
        "alpha = 0.05\n",
        "degrees_of_freedom = n-1\n",
        "t_critical = st.t.ppf(alpha/2,degrees_of_freedom)\n",
        "df[\"diff\"] = df[\"Departure Delay in Minutes\"] - df[\"Arrival Delay in Minutes\"]\n",
        "xbar = df[\"diff\"].mean()\n",
        "s = df[\"diff\"].std()\n",
        "t = (xbar)/(s/np.sqrt(n))\n",
        "print(t)\n",
        "print(t_critical)\n",
        "if(abs(t)<abs(t_critical)):\n",
        "  print(\"The correlation between arrival delay and departure is statistically significant\")\n",
        "  print(\"Null hypothesis cannot be rejected\")\n",
        "else:\n",
        "  print(\"Reject Null hypothesis\")"
      ],
      "execution_count": null,
      "outputs": [
        {
          "output_type": "stream",
          "name": "stdout",
          "text": [
            "-1.0367478995033432\n",
            "-1.962341461133449\n",
            "The correlation between arrival delay and departure is statistically significant\n",
            "Null hypothesis cannot be rejected\n"
          ]
        }
      ]
    },
    {
      "cell_type": "markdown",
      "metadata": {
        "id": "9UTZwXgny-JP"
      },
      "source": [
        "## H2"
      ]
    },
    {
      "cell_type": "code",
      "source": [
        "def check_categorical_dependency(crosstab_table, confidence_interval):\n",
        "   stat, p, dof, expected = st.chi2_contingency(crosstab_table)\n",
        "   print (\"Chi-Square Statistic value = {}\".format(stat))\n",
        "   print (\"P - Value = {}\".format(p))\n",
        "   alpha = 1.0 - confidence_interval\n",
        "   if p <= alpha:\n",
        "       print('Reject Null Hypothesis')\n",
        "   else:\n",
        "\t      print('Null Hypothesis cannot be rejected')"
      ],
      "metadata": {
        "id": "-brPwnrNg2ML"
      },
      "execution_count": null,
      "outputs": []
    },
    {
      "cell_type": "markdown",
      "source": [
        "Economy class has highest proportion of dissatisfied passengers."
      ],
      "metadata": {
        "id": "vQZJW75WYyu6"
      }
    },
    {
      "cell_type": "code",
      "metadata": {
        "id": "_cLXST_nvtmQ",
        "colab": {
          "base_uri": "https://localhost:8080/",
          "height": 206
        },
        "outputId": "af3efc61-5678-4113-f4d8-ea561ee62250"
      },
      "source": [
        "# H0: Satisfaction is independent of Class\n",
        "# Ha: Passenger satisfaction is dependent on Class\n",
        "df3 = pd.crosstab(df['Class'],df['satisfaction'],margins=True)\n",
        "df3"
      ],
      "execution_count": null,
      "outputs": [
        {
          "output_type": "execute_result",
          "data": {
            "text/html": [
              "<div>\n",
              "<style scoped>\n",
              "    .dataframe tbody tr th:only-of-type {\n",
              "        vertical-align: middle;\n",
              "    }\n",
              "\n",
              "    .dataframe tbody tr th {\n",
              "        vertical-align: top;\n",
              "    }\n",
              "\n",
              "    .dataframe thead th {\n",
              "        text-align: right;\n",
              "    }\n",
              "</style>\n",
              "<table border=\"1\" class=\"dataframe\">\n",
              "  <thead>\n",
              "    <tr style=\"text-align: right;\">\n",
              "      <th>satisfaction</th>\n",
              "      <th>dissatisfied</th>\n",
              "      <th>satisfied</th>\n",
              "      <th>All</th>\n",
              "    </tr>\n",
              "    <tr>\n",
              "      <th>Class</th>\n",
              "      <th></th>\n",
              "      <th></th>\n",
              "      <th></th>\n",
              "    </tr>\n",
              "  </thead>\n",
              "  <tbody>\n",
              "    <tr>\n",
              "      <th>Business</th>\n",
              "      <td>158</td>\n",
              "      <td>317</td>\n",
              "      <td>475</td>\n",
              "    </tr>\n",
              "    <tr>\n",
              "      <th>Eco</th>\n",
              "      <td>371</td>\n",
              "      <td>78</td>\n",
              "      <td>449</td>\n",
              "    </tr>\n",
              "    <tr>\n",
              "      <th>Eco Plus</th>\n",
              "      <td>49</td>\n",
              "      <td>27</td>\n",
              "      <td>76</td>\n",
              "    </tr>\n",
              "    <tr>\n",
              "      <th>All</th>\n",
              "      <td>578</td>\n",
              "      <td>422</td>\n",
              "      <td>1000</td>\n",
              "    </tr>\n",
              "  </tbody>\n",
              "</table>\n",
              "</div>"
            ],
            "text/plain": [
              "satisfaction  dissatisfied  satisfied   All\n",
              "Class                                      \n",
              "Business               158        317   475\n",
              "Eco                    371         78   449\n",
              "Eco Plus                49         27    76\n",
              "All                    578        422  1000"
            ]
          },
          "metadata": {},
          "execution_count": 173
        }
      ]
    },
    {
      "cell_type": "code",
      "source": [
        "check_categorical_dependency(df3, 0.95)"
      ],
      "metadata": {
        "id": "fFQ2QVnFzK2V",
        "colab": {
          "base_uri": "https://localhost:8080/"
        },
        "outputId": "04d69725-2aaa-493d-a68b-e9de2816d4e2"
      },
      "execution_count": null,
      "outputs": [
        {
          "output_type": "stream",
          "name": "stdout",
          "text": [
            "Chi-Square Statistic value = 232.1045199798977\n",
            "P - Value = 2.7221069297830236e-47\n",
            "0.050000000000000044\n",
            "Reject Null Hypothesis\n"
          ]
        }
      ]
    },
    {
      "cell_type": "markdown",
      "source": [
        "## H3"
      ],
      "metadata": {
        "id": "8861q19522Uq"
      }
    },
    {
      "cell_type": "markdown",
      "source": [
        "Female passengers are associated with low satisfaction levels."
      ],
      "metadata": {
        "id": "F9njGUPxY3Ad"
      }
    },
    {
      "cell_type": "code",
      "metadata": {
        "id": "jbLCvD3PvtZz",
        "colab": {
          "base_uri": "https://localhost:8080/",
          "height": 144
        },
        "outputId": "fc0c5a78-c79c-47d8-fa0b-5e071080747b"
      },
      "source": [
        "# H0: Satisfaction is independent of Gender\n",
        "# Ha: Satisfaction is dependent on Gender\n",
        "df4 = pd.crosstab(df['Gender'],df['satisfaction'])\n",
        "df4"
      ],
      "execution_count": null,
      "outputs": [
        {
          "output_type": "execute_result",
          "data": {
            "text/html": [
              "<div>\n",
              "<style scoped>\n",
              "    .dataframe tbody tr th:only-of-type {\n",
              "        vertical-align: middle;\n",
              "    }\n",
              "\n",
              "    .dataframe tbody tr th {\n",
              "        vertical-align: top;\n",
              "    }\n",
              "\n",
              "    .dataframe thead th {\n",
              "        text-align: right;\n",
              "    }\n",
              "</style>\n",
              "<table border=\"1\" class=\"dataframe\">\n",
              "  <thead>\n",
              "    <tr style=\"text-align: right;\">\n",
              "      <th>satisfaction</th>\n",
              "      <th>dissatisfied</th>\n",
              "      <th>satisfied</th>\n",
              "    </tr>\n",
              "    <tr>\n",
              "      <th>Gender</th>\n",
              "      <th></th>\n",
              "      <th></th>\n",
              "    </tr>\n",
              "  </thead>\n",
              "  <tbody>\n",
              "    <tr>\n",
              "      <th>Female</th>\n",
              "      <td>298</td>\n",
              "      <td>204</td>\n",
              "    </tr>\n",
              "    <tr>\n",
              "      <th>Male</th>\n",
              "      <td>280</td>\n",
              "      <td>218</td>\n",
              "    </tr>\n",
              "  </tbody>\n",
              "</table>\n",
              "</div>"
            ],
            "text/plain": [
              "satisfaction  dissatisfied  satisfied\n",
              "Gender                               \n",
              "Female                 298        204\n",
              "Male                   280        218"
            ]
          },
          "metadata": {},
          "execution_count": 175
        }
      ]
    },
    {
      "cell_type": "code",
      "source": [
        "check_categorical_dependency(df4, 0.95)"
      ],
      "metadata": {
        "id": "vj3Ow67c0d1A",
        "colab": {
          "base_uri": "https://localhost:8080/"
        },
        "outputId": "81d40bf2-86a7-4730-bd7f-cd26069b8d47"
      },
      "execution_count": null,
      "outputs": [
        {
          "output_type": "stream",
          "name": "stdout",
          "text": [
            "Chi-Square Statistic value = 0.884488085458655\n",
            "P - Value = 0.3469753684648271\n",
            "0.050000000000000044\n",
            "Null Hypothesis cannot be rejected\n"
          ]
        }
      ]
    },
    {
      "cell_type": "markdown",
      "source": [
        "## H4"
      ],
      "metadata": {
        "id": "hvH8LwKm1wXQ"
      }
    },
    {
      "cell_type": "markdown",
      "source": [
        "People aged 60-70 are less satisfied."
      ],
      "metadata": {
        "id": "vOnJI19Z7ORo"
      }
    },
    {
      "cell_type": "code",
      "source": [
        "one_hot = pd.get_dummies(data['satisfaction'])\n",
        "end = encoded.drop(['satisfaction'],axis=1)\n",
        "end = end.join(one_hot)\n",
        "dff = end.groupby(['Age'])['satisfied'].sum().reset_index()\n",
        "df2 = end.groupby(['Age'])['dissatisfied'].sum().reset_index()\n",
        "dff['ratio'] = dff['satisfied']/(df2['dissatisfied'])\n",
        "dff['size'] = dff['satisfied']+(df2['dissatisfied'])\n",
        "rslt = dff.loc[dff['Age']>60] \n",
        "rslt = rslt.loc[dff['Age']<70] \n",
        "n = rslt.shape[0]"
      ],
      "metadata": {
        "id": "ObiuEbFN6IQu"
      },
      "execution_count": null,
      "outputs": []
    },
    {
      "cell_type": "code",
      "source": [
        "#H0 : Mean of satisfaction ratio is uniform in all age ranges ,μ = 0.36359 \n",
        "#Ha : Mean of ratio satisfaction is lower in the age range of 60 - 70 ,μ != 0.36359"
      ],
      "metadata": {
        "id": "NUBIf-8K6s_L"
      },
      "execution_count": null,
      "outputs": []
    },
    {
      "cell_type": "code",
      "source": [
        "n = rslt.shape[0]\n",
        "degrees_of_freedom = n-1\n",
        "xbar = rslt['ratio'].mean()\n",
        "mu = dff['ratio'].mean()\n",
        "sigma = np.sqrt((mu*(1-mu))/100)\n",
        "alpha = 0.1\n",
        "t = (xbar-mu)/(sigma/np.sqrt(n))\n",
        "t_critical = st.t.ppf(alpha/2, degrees_of_freedom)\n",
        "if (abs(t) < abs(t_critical)):\n",
        "    print(\"Null hypothesis cannot be rejected\")\n",
        "else:\n",
        "    print(\"Reject null hypothesis\")"
      ],
      "metadata": {
        "id": "Wi_lRBsK6sLU",
        "colab": {
          "base_uri": "https://localhost:8080/"
        },
        "outputId": "024f7ecb-8af6-4752-99a6-f8b240e6ee43"
      },
      "execution_count": null,
      "outputs": [
        {
          "output_type": "stream",
          "name": "stdout",
          "text": [
            "Reject null hypothesis\n"
          ]
        }
      ]
    },
    {
      "cell_type": "markdown",
      "source": [
        "## H5"
      ],
      "metadata": {
        "id": "3hzRQoI2ebOY"
      }
    },
    {
      "cell_type": "code",
      "source": [
        "#H0 : Type of travel does not affect satisfaction\n",
        "#Ha : People travelling for business reasons seem to have higher satisfacion"
      ],
      "metadata": {
        "id": "uya56yWK236o"
      },
      "execution_count": null,
      "outputs": []
    },
    {
      "cell_type": "code",
      "source": [
        "df7 = pd.crosstab(df['Type of Travel'], df['satisfaction'], margins = True)\n",
        "df7"
      ],
      "metadata": {
        "id": "MHzeLwYq3FFT",
        "colab": {
          "base_uri": "https://localhost:8080/",
          "height": 175
        },
        "outputId": "6c97c142-c962-4ed5-e4f0-4cf9ae94ac6a"
      },
      "execution_count": null,
      "outputs": [
        {
          "output_type": "execute_result",
          "data": {
            "text/html": [
              "<div>\n",
              "<style scoped>\n",
              "    .dataframe tbody tr th:only-of-type {\n",
              "        vertical-align: middle;\n",
              "    }\n",
              "\n",
              "    .dataframe tbody tr th {\n",
              "        vertical-align: top;\n",
              "    }\n",
              "\n",
              "    .dataframe thead th {\n",
              "        text-align: right;\n",
              "    }\n",
              "</style>\n",
              "<table border=\"1\" class=\"dataframe\">\n",
              "  <thead>\n",
              "    <tr style=\"text-align: right;\">\n",
              "      <th>satisfaction</th>\n",
              "      <th>dissatisfied</th>\n",
              "      <th>satisfied</th>\n",
              "      <th>All</th>\n",
              "    </tr>\n",
              "    <tr>\n",
              "      <th>Type of Travel</th>\n",
              "      <th></th>\n",
              "      <th></th>\n",
              "      <th></th>\n",
              "    </tr>\n",
              "  </thead>\n",
              "  <tbody>\n",
              "    <tr>\n",
              "      <th>Business travel</th>\n",
              "      <td>302</td>\n",
              "      <td>390</td>\n",
              "      <td>692</td>\n",
              "    </tr>\n",
              "    <tr>\n",
              "      <th>Personal Travel</th>\n",
              "      <td>276</td>\n",
              "      <td>32</td>\n",
              "      <td>308</td>\n",
              "    </tr>\n",
              "    <tr>\n",
              "      <th>All</th>\n",
              "      <td>578</td>\n",
              "      <td>422</td>\n",
              "      <td>1000</td>\n",
              "    </tr>\n",
              "  </tbody>\n",
              "</table>\n",
              "</div>"
            ],
            "text/plain": [
              "satisfaction     dissatisfied  satisfied   All\n",
              "Type of Travel                                \n",
              "Business travel           302        390   692\n",
              "Personal Travel           276         32   308\n",
              "All                       578        422  1000"
            ]
          },
          "metadata": {},
          "execution_count": 181
        }
      ]
    },
    {
      "cell_type": "code",
      "source": [
        "check_categorical_dependency(df7, 0.95)"
      ],
      "metadata": {
        "id": "VRlRtLK23Mna",
        "colab": {
          "base_uri": "https://localhost:8080/"
        },
        "outputId": "349c733f-285d-4b47-e5b2-ec286568b336"
      },
      "execution_count": null,
      "outputs": [
        {
          "output_type": "stream",
          "name": "stdout",
          "text": [
            "Chi-Square Statistic value = 184.64702268792126\n",
            "P - Value = 7.488581218613896e-39\n",
            "0.050000000000000044\n",
            "Reject Null Hypothesis\n"
          ]
        }
      ]
    },
    {
      "cell_type": "markdown",
      "source": [
        "## H6"
      ],
      "metadata": {
        "id": "bwqM7V5rgjWQ"
      }
    },
    {
      "cell_type": "code",
      "source": [
        "#H0 : seatcomfort does not affect satisfaction\n",
        "#Ha : higher seat comfort is enjoyed by satisfied customers"
      ],
      "metadata": {
        "id": "-UGtMZlf1y_-"
      },
      "execution_count": null,
      "outputs": []
    },
    {
      "cell_type": "code",
      "source": [
        "df8 = pd.crosstab(df['Seat comfort'], df['satisfaction'], margins = True)\n",
        "df8"
      ],
      "metadata": {
        "id": "iEOsFloz14uD",
        "colab": {
          "base_uri": "https://localhost:8080/",
          "height": 269
        },
        "outputId": "3cfff668-4558-47b0-e977-7e09db77abd3"
      },
      "execution_count": null,
      "outputs": [
        {
          "output_type": "execute_result",
          "data": {
            "text/html": [
              "<div>\n",
              "<style scoped>\n",
              "    .dataframe tbody tr th:only-of-type {\n",
              "        vertical-align: middle;\n",
              "    }\n",
              "\n",
              "    .dataframe tbody tr th {\n",
              "        vertical-align: top;\n",
              "    }\n",
              "\n",
              "    .dataframe thead th {\n",
              "        text-align: right;\n",
              "    }\n",
              "</style>\n",
              "<table border=\"1\" class=\"dataframe\">\n",
              "  <thead>\n",
              "    <tr style=\"text-align: right;\">\n",
              "      <th>satisfaction</th>\n",
              "      <th>dissatisfied</th>\n",
              "      <th>satisfied</th>\n",
              "      <th>All</th>\n",
              "    </tr>\n",
              "    <tr>\n",
              "      <th>Seat comfort</th>\n",
              "      <th></th>\n",
              "      <th></th>\n",
              "      <th></th>\n",
              "    </tr>\n",
              "  </thead>\n",
              "  <tbody>\n",
              "    <tr>\n",
              "      <th>1</th>\n",
              "      <td>96</td>\n",
              "      <td>30</td>\n",
              "      <td>126</td>\n",
              "    </tr>\n",
              "    <tr>\n",
              "      <th>2</th>\n",
              "      <td>109</td>\n",
              "      <td>28</td>\n",
              "      <td>137</td>\n",
              "    </tr>\n",
              "    <tr>\n",
              "      <th>3</th>\n",
              "      <td>142</td>\n",
              "      <td>37</td>\n",
              "      <td>179</td>\n",
              "    </tr>\n",
              "    <tr>\n",
              "      <th>4</th>\n",
              "      <td>126</td>\n",
              "      <td>187</td>\n",
              "      <td>313</td>\n",
              "    </tr>\n",
              "    <tr>\n",
              "      <th>5</th>\n",
              "      <td>105</td>\n",
              "      <td>140</td>\n",
              "      <td>245</td>\n",
              "    </tr>\n",
              "    <tr>\n",
              "      <th>All</th>\n",
              "      <td>578</td>\n",
              "      <td>422</td>\n",
              "      <td>1000</td>\n",
              "    </tr>\n",
              "  </tbody>\n",
              "</table>\n",
              "</div>"
            ],
            "text/plain": [
              "satisfaction  dissatisfied  satisfied   All\n",
              "Seat comfort                               \n",
              "1                       96         30   126\n",
              "2                      109         28   137\n",
              "3                      142         37   179\n",
              "4                      126        187   313\n",
              "5                      105        140   245\n",
              "All                    578        422  1000"
            ]
          },
          "metadata": {},
          "execution_count": 184
        }
      ]
    },
    {
      "cell_type": "code",
      "source": [
        "check_categorical_dependency(df8, 0.95)"
      ],
      "metadata": {
        "id": "Pjz3l3vB1__n",
        "colab": {
          "base_uri": "https://localhost:8080/"
        },
        "outputId": "71dd3f4a-ac05-481e-e417-0c8e2582fc96"
      },
      "execution_count": null,
      "outputs": [
        {
          "output_type": "stream",
          "name": "stdout",
          "text": [
            "Chi-Square Statistic value = 140.01366987510187\n",
            "P - Value = 4.187295621507408e-25\n",
            "0.050000000000000044\n",
            "Reject Null Hypothesis\n"
          ]
        }
      ]
    },
    {
      "cell_type": "markdown",
      "source": [
        "## H7"
      ],
      "metadata": {
        "id": "3sAbbBqk56lr"
      }
    },
    {
      "cell_type": "code",
      "source": [
        "new = data.copy()\n",
        "new = new.join(one_hot)\n",
        "new = end.groupby(['Flight Distance'])['satisfied'].sum().reset_index()\n",
        "new2 = end.groupby(['Flight Distance'])['dissatisfied'].sum().reset_index()\n",
        "new['ratio'] = new['satisfied']/(new['satisfied']+new2['dissatisfied'])\n",
        "rl = new.loc[new['Flight Distance'] > new['Flight Distance'].mean() ]"
      ],
      "metadata": {
        "id": "u3XiZZfk6IwM"
      },
      "execution_count": null,
      "outputs": []
    },
    {
      "cell_type": "code",
      "source": [
        "#H0 : Flight distance does not affect satisfaction\n",
        "#Ha : Long distance fliers are more satisfied"
      ],
      "metadata": {
        "id": "y_SwR9yf7vta"
      },
      "execution_count": null,
      "outputs": []
    },
    {
      "cell_type": "code",
      "source": [
        "n = rl.shape[0]\n",
        "degrees_of_freedom = n-1\n",
        "xbar = rl['ratio'].mean()\n",
        "mu = dff['ratio'].mean()\n",
        "sigma = np.sqrt((mu*(1-mu))/100)\n",
        "alpha = 0.1\n",
        "t = (xbar-mu)/(sigma/np.sqrt(n))\n",
        "t_critical = st.t.ppf(alpha/2, degrees_of_freedom)\n",
        "if (abs(t)< abs(t_critical)):\n",
        "    print(\"Null hypothesis cannot be rejected\")\n",
        "else:\n",
        "    print(\"Reject null hypothesis\")"
      ],
      "metadata": {
        "id": "4AMPEH_I7w7L",
        "colab": {
          "base_uri": "https://localhost:8080/"
        },
        "outputId": "61086674-edd7-4b6f-9b45-77279209fe5a"
      },
      "execution_count": null,
      "outputs": [
        {
          "output_type": "stream",
          "name": "stdout",
          "text": [
            "Reject null hypothesis\n"
          ]
        }
      ]
    },
    {
      "cell_type": "markdown",
      "metadata": {
        "id": "8fk6Mc9pyOgW"
      },
      "source": [
        "## H8"
      ]
    },
    {
      "cell_type": "code",
      "source": [
        "# H0: Satisfaction of inflight entertainment is not related with Overall satisfaction; \n",
        "# Ha: Satisfaction of inflight entertainment is related with Overall satisfaction"
      ],
      "metadata": {
        "id": "NjFHjOrmfYAY"
      },
      "execution_count": null,
      "outputs": []
    },
    {
      "cell_type": "code",
      "source": [
        "df9 = pd.crosstab(df['Inflight entertainment'], df['satisfaction'], margins = True)\n",
        "df9"
      ],
      "metadata": {
        "id": "HwvGyxQAfxlH",
        "colab": {
          "base_uri": "https://localhost:8080/",
          "height": 269
        },
        "outputId": "805ea303-3657-40b3-b09c-bba1efea5110"
      },
      "execution_count": null,
      "outputs": [
        {
          "output_type": "execute_result",
          "data": {
            "text/html": [
              "<div>\n",
              "<style scoped>\n",
              "    .dataframe tbody tr th:only-of-type {\n",
              "        vertical-align: middle;\n",
              "    }\n",
              "\n",
              "    .dataframe tbody tr th {\n",
              "        vertical-align: top;\n",
              "    }\n",
              "\n",
              "    .dataframe thead th {\n",
              "        text-align: right;\n",
              "    }\n",
              "</style>\n",
              "<table border=\"1\" class=\"dataframe\">\n",
              "  <thead>\n",
              "    <tr style=\"text-align: right;\">\n",
              "      <th>satisfaction</th>\n",
              "      <th>dissatisfied</th>\n",
              "      <th>satisfied</th>\n",
              "      <th>All</th>\n",
              "    </tr>\n",
              "    <tr>\n",
              "      <th>Inflight entertainment</th>\n",
              "      <th></th>\n",
              "      <th></th>\n",
              "      <th></th>\n",
              "    </tr>\n",
              "  </thead>\n",
              "  <tbody>\n",
              "    <tr>\n",
              "      <th>1</th>\n",
              "      <td>106</td>\n",
              "      <td>21</td>\n",
              "      <td>127</td>\n",
              "    </tr>\n",
              "    <tr>\n",
              "      <th>2</th>\n",
              "      <td>133</td>\n",
              "      <td>31</td>\n",
              "      <td>164</td>\n",
              "    </tr>\n",
              "    <tr>\n",
              "      <th>3</th>\n",
              "      <td>128</td>\n",
              "      <td>46</td>\n",
              "      <td>174</td>\n",
              "    </tr>\n",
              "    <tr>\n",
              "      <th>4</th>\n",
              "      <td>98</td>\n",
              "      <td>175</td>\n",
              "      <td>273</td>\n",
              "    </tr>\n",
              "    <tr>\n",
              "      <th>5</th>\n",
              "      <td>113</td>\n",
              "      <td>149</td>\n",
              "      <td>262</td>\n",
              "    </tr>\n",
              "    <tr>\n",
              "      <th>All</th>\n",
              "      <td>578</td>\n",
              "      <td>422</td>\n",
              "      <td>1000</td>\n",
              "    </tr>\n",
              "  </tbody>\n",
              "</table>\n",
              "</div>"
            ],
            "text/plain": [
              "satisfaction            dissatisfied  satisfied   All\n",
              "Inflight entertainment                               \n",
              "1                                106         21   127\n",
              "2                                133         31   164\n",
              "3                                128         46   174\n",
              "4                                 98        175   273\n",
              "5                                113        149   262\n",
              "All                              578        422  1000"
            ]
          },
          "metadata": {},
          "execution_count": 190
        }
      ]
    },
    {
      "cell_type": "code",
      "source": [
        "check_categorical_dependency(df9, 0.95)"
      ],
      "metadata": {
        "id": "mbXMHJKg0-js",
        "colab": {
          "base_uri": "https://localhost:8080/"
        },
        "outputId": "c4c72d98-a6ef-42c4-df77-95f8c7280d56"
      },
      "execution_count": null,
      "outputs": [
        {
          "output_type": "stream",
          "name": "stdout",
          "text": [
            "Chi-Square Statistic value = 165.3243124007198\n",
            "P - Value = 2.573740795862708e-30\n",
            "0.050000000000000044\n",
            "Reject Null Hypothesis\n"
          ]
        }
      ]
    },
    {
      "cell_type": "markdown",
      "source": [
        "## H9"
      ],
      "metadata": {
        "id": "F4l-bXui56LP"
      }
    },
    {
      "cell_type": "code",
      "source": [
        "#H0: Seat comfort and Inflight entertainment are not dependent on each other; \n",
        "#Ha: Seat comfort and Inflight entertainment are dependent on each other"
      ],
      "metadata": {
        "id": "jnkQHxNXiSiH"
      },
      "execution_count": null,
      "outputs": []
    },
    {
      "cell_type": "code",
      "source": [
        "df10 = pd.crosstab(df['Seat comfort'], df['Inflight entertainment'], margins = True)\n",
        "df10"
      ],
      "metadata": {
        "id": "u1Y_CkDNgnhW",
        "colab": {
          "base_uri": "https://localhost:8080/",
          "height": 269
        },
        "outputId": "9389bbff-534e-4d18-9840-93f739522ee8"
      },
      "execution_count": null,
      "outputs": [
        {
          "output_type": "execute_result",
          "data": {
            "text/html": [
              "<div>\n",
              "<style scoped>\n",
              "    .dataframe tbody tr th:only-of-type {\n",
              "        vertical-align: middle;\n",
              "    }\n",
              "\n",
              "    .dataframe tbody tr th {\n",
              "        vertical-align: top;\n",
              "    }\n",
              "\n",
              "    .dataframe thead th {\n",
              "        text-align: right;\n",
              "    }\n",
              "</style>\n",
              "<table border=\"1\" class=\"dataframe\">\n",
              "  <thead>\n",
              "    <tr style=\"text-align: right;\">\n",
              "      <th>Inflight entertainment</th>\n",
              "      <th>1</th>\n",
              "      <th>2</th>\n",
              "      <th>3</th>\n",
              "      <th>4</th>\n",
              "      <th>5</th>\n",
              "      <th>All</th>\n",
              "    </tr>\n",
              "    <tr>\n",
              "      <th>Seat comfort</th>\n",
              "      <th></th>\n",
              "      <th></th>\n",
              "      <th></th>\n",
              "      <th></th>\n",
              "      <th></th>\n",
              "      <th></th>\n",
              "    </tr>\n",
              "  </thead>\n",
              "  <tbody>\n",
              "    <tr>\n",
              "      <th>1</th>\n",
              "      <td>89</td>\n",
              "      <td>4</td>\n",
              "      <td>12</td>\n",
              "      <td>11</td>\n",
              "      <td>10</td>\n",
              "      <td>126</td>\n",
              "    </tr>\n",
              "    <tr>\n",
              "      <th>2</th>\n",
              "      <td>7</td>\n",
              "      <td>99</td>\n",
              "      <td>12</td>\n",
              "      <td>13</td>\n",
              "      <td>6</td>\n",
              "      <td>137</td>\n",
              "    </tr>\n",
              "    <tr>\n",
              "      <th>3</th>\n",
              "      <td>12</td>\n",
              "      <td>26</td>\n",
              "      <td>101</td>\n",
              "      <td>26</td>\n",
              "      <td>14</td>\n",
              "      <td>179</td>\n",
              "    </tr>\n",
              "    <tr>\n",
              "      <th>4</th>\n",
              "      <td>12</td>\n",
              "      <td>23</td>\n",
              "      <td>37</td>\n",
              "      <td>171</td>\n",
              "      <td>70</td>\n",
              "      <td>313</td>\n",
              "    </tr>\n",
              "    <tr>\n",
              "      <th>5</th>\n",
              "      <td>7</td>\n",
              "      <td>12</td>\n",
              "      <td>12</td>\n",
              "      <td>52</td>\n",
              "      <td>162</td>\n",
              "      <td>245</td>\n",
              "    </tr>\n",
              "    <tr>\n",
              "      <th>All</th>\n",
              "      <td>127</td>\n",
              "      <td>164</td>\n",
              "      <td>174</td>\n",
              "      <td>273</td>\n",
              "      <td>262</td>\n",
              "      <td>1000</td>\n",
              "    </tr>\n",
              "  </tbody>\n",
              "</table>\n",
              "</div>"
            ],
            "text/plain": [
              "Inflight entertainment    1    2    3    4    5   All\n",
              "Seat comfort                                         \n",
              "1                        89    4   12   11   10   126\n",
              "2                         7   99   12   13    6   137\n",
              "3                        12   26  101   26   14   179\n",
              "4                        12   23   37  171   70   313\n",
              "5                         7   12   12   52  162   245\n",
              "All                     127  164  174  273  262  1000"
            ]
          },
          "metadata": {},
          "execution_count": 193
        }
      ]
    },
    {
      "cell_type": "code",
      "source": [
        "check_categorical_dependency(df10, 0.95)"
      ],
      "metadata": {
        "id": "pOST1gocg-SX",
        "colab": {
          "base_uri": "https://localhost:8080/"
        },
        "outputId": "4984b8b3-3b2d-4ea8-8a76-a36ce36aa8d1"
      },
      "execution_count": null,
      "outputs": [
        {
          "output_type": "stream",
          "name": "stdout",
          "text": [
            "Chi-Square Statistic value = 1233.2192587326595\n",
            "P - Value = 1.4685808351169986e-244\n",
            "0.050000000000000044\n",
            "Reject Null Hypothesis\n"
          ]
        }
      ]
    },
    {
      "cell_type": "markdown",
      "source": [
        "#Reference"
      ],
      "metadata": {
        "id": "TNI4L3nS1uaX"
      }
    },
    {
      "cell_type": "markdown",
      "source": [
        "https://towardsdatascience.com/feature-extraction-techniques-d619b56e31be\n",
        "\n",
        "https://stats.stackexchange.com/questions/182711/principal-component-analysis-vs-feature-selection\n",
        "\n",
        "https://imbalanced-learn.org/dev/references/generated/imblearn.over_sampling.SMOTENC.html\n",
        "\n",
        "https://scikit-learn.org/stable/modules/generated/sklearn.feature_selection.SelectKBest.html\n",
        "\n",
        "https://machinelearningmastery.com/chi-squared-test-for-machine-learning/\n"
      ],
      "metadata": {
        "id": "-jj0u0X017YE"
      }
    }
  ]
}